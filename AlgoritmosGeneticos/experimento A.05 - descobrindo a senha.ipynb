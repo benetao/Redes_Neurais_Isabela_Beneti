{
 "cells": [
  {
   "cell_type": "markdown",
   "metadata": {},
   "source": [
    "Descobrindo a senha\n",
    "===================\n",
    "\n"
   ]
  },
  {
   "cell_type": "markdown",
   "metadata": {},
   "source": [
    "## Objetivo\n",
    "\n"
   ]
  },
  {
   "cell_type": "markdown",
   "metadata": {},
   "source": [
    "Usar um algoritmo genético para descobrir uma senha.\n",
    "\n"
   ]
  },
  {
   "cell_type": "markdown",
   "metadata": {},
   "source": [
    "## Descrição do problema\n",
    "\n"
   ]
  },
  {
   "cell_type": "markdown",
   "metadata": {},
   "source": [
    "Neste problema, a função objetivo deve saber a senha correta e quantificar de alguma maneira o quão perto ou longe os palpites estão da solução (veja que isso é algo que não temos no mundo real. Nenhum site irá te dizer se você está acertando ou errando seu palpite). O critério de parada deste problema é quando a senha for descoberta.\n",
    "\n"
   ]
  },
  {
   "cell_type": "markdown",
   "metadata": {},
   "source": [
    "## Importações\n",
    "\n"
   ]
  },
  {
   "cell_type": "code",
   "execution_count": 1,
   "metadata": {},
   "outputs": [],
   "source": [
    "from funcoes import populacao_inicial_senha\n",
    "from funcoes import funcao_objetivo_pop_senha\n",
    "from funcoes import selecao_torneio_min # para problemas de minimização\n",
    "from funcoes import cruzamento_ponto_simples as funcao_cruzamento\n",
    "from funcoes import mutacao_senha\n",
    "import random"
   ]
  },
  {
   "cell_type": "markdown",
   "metadata": {},
   "source": [
    "## Códigos e discussão\n",
    "\n"
   ]
  },
  {
   "cell_type": "code",
   "execution_count": 16,
   "metadata": {},
   "outputs": [
    {
     "name": "stdin",
     "output_type": "stream",
     "text": [
      "Adicione a senha que será descoberta: oiDaniiii\n"
     ]
    }
   ],
   "source": [
    "### CONSTANTES\n",
    "\n",
    "# relacionadas à busca: mudar se quiser melhorar a eficácia do algoritmo\n",
    "TAMANHO_POP = 50\n",
    "NUM_GERACOES = 200\n",
    "CHANCE_CRUZAMENTO = 0.5\n",
    "CHANCE_MUTACAO = 0.05\n",
    "NUM_COMBATENTES_NO_TORNEIO = 2\n",
    "\n",
    "# relacionadas ao problema a ser resulvido: mudar se quiser alterar o problema que está sendo resolvido\n",
    "SENHA = input(\"Adicione a senha que será descoberta:\")\n",
    "LETRAS_POSSIVEIS = \"abcdefghijklmnopqrstuvwxyz1234567890ABCDEFGHIJKLMNOPQRSTUVWXYZ@!#$%\"\n",
    "NUM_GENES = len(SENHA)"
   ]
  },
  {
   "cell_type": "code",
   "execution_count": 17,
   "metadata": {},
   "outputs": [],
   "source": [
    "# funções locais\n",
    "\n",
    "def cria_populacao_inicial(tamanho, tamanho_senha):\n",
    "    return populacao_inicial_senha(tamanho, tamanho_senha, LETRAS_POSSIVEIS)\n",
    "\n",
    "def funcao_objetivo_pop(populacao): # minimiza a distância entre seu candidato e a senha\n",
    "    return funcao_objetivo_pop_senha(populacao, SENHA)\n",
    "\n",
    "def funcao_selecao(populacao, fitness):\n",
    "    return selecao_torneio_min(populacao, fitness, NUM_COMBATENTES_NO_TORNEIO)\n",
    "\n",
    "def funcao_mutacao(individuo):\n",
    "    return mutacao_senha(individuo, LETRAS_POSSIVEIS)"
   ]
  },
  {
   "cell_type": "code",
   "execution_count": 18,
   "metadata": {},
   "outputs": [
    {
     "name": "stdout",
     "output_type": "stream",
     "text": [
      "Progresso da melhor senha já vista:\n",
      "jRDUcxDzm - fitness: 124\n",
      "feRNdczhR - fitness: 103\n",
      "yy3rpeWgb - fitness: 93\n",
      "gv3rpeWgb - fitness: 88\n",
      "feRNdcpgb - fitness: 78\n",
      "geDUcxpgb - fitness: 66\n",
      "geDUccpgb - fitness: 57\n",
      "nmGQwcpgb - fitness: 55\n",
      "geDUcalhb - fitness: 54\n",
      "seDUcalhb - fitness: 50\n",
      "nmDUcalhb - fitness: 47\n",
      "sjDUcclhb - fitness: 45\n",
      "nmDUdclhb - fitness: 44\n",
      "nmDUdclhk - fitness: 39\n",
      "nmDUdclhh - fitness: 38\n",
      "nmDVdclhh - fitness: 37\n",
      "nmDgdclhk - fitness: 33\n",
      "nmDgddlhh - fitness: 31\n",
      "nmDgwdlhh - fitness: 30\n",
      "nmDfwdlhh - fitness: 29\n",
      "nmDdwdlhh - fitness: 27\n",
      "nmDdkdlhh - fitness: 21\n",
      "nmDdndlhh - fitness: 18\n",
      "oiDagdjhh - fitness: 15\n",
      "oiDdmdjhh - fitness: 12\n",
      "oiDaghjhh - fitness: 11\n",
      "oiDamdjhh - fitness: 9\n",
      "oiDamgjhh - fitness: 6\n",
      "\n",
      "Melhor palpite da senha encontrado:\n",
      "oiDamgjhh\n"
     ]
    }
   ],
   "source": [
    "populacao = cria_populacao_inicial(TAMANHO_POP, NUM_GENES)\n",
    "\n",
    "melhor_fitness_ja_visto = float(\"inf\")  # é assim que escrevemos infinito em python\n",
    "\n",
    "print(\"Progresso da melhor senha já vista:\")\n",
    "\n",
    "for n in range(NUM_GERACOES):    \n",
    "    \n",
    "    # Seleção\n",
    "    fitness = funcao_objetivo_pop(populacao)\n",
    "    populacao = funcao_selecao(populacao, fitness)\n",
    "    \n",
    "    # Cruzamento\n",
    "    pais = populacao[0::2]\n",
    "    maes = populacao[1::2]\n",
    "    \n",
    "    contador = 0\n",
    "    \n",
    "    for pai, mae in zip(pais, maes):\n",
    "        if random.random() <= CHANCE_CRUZAMENTO:\n",
    "            filho1, filho2 = funcao_cruzamento(pai, mae)\n",
    "            populacao[contador] = filho1\n",
    "            populacao[contador + 1] = filho2\n",
    "        \n",
    "        contador = contador + 2   \n",
    "        \n",
    "    # Mutação\n",
    "    for n in range(len(populacao)):\n",
    "        if random.random() <= CHANCE_MUTACAO:\n",
    "            individuo = populacao[n]\n",
    "            populacao[n] = funcao_mutacao(individuo)            \n",
    "            \n",
    "    # melhor individuo já visto até agora\n",
    "    fitness = funcao_objetivo_pop(populacao)\n",
    "    menor_fitness = min(fitness) # quanto menor o valor do fitness, melhor! Pois é um problema de minimização\n",
    "    if menor_fitness < melhor_fitness_ja_visto:    # Hall da fama: lista dos melhores indivíduos vistos até agora     \n",
    "        posicao = fitness.index(menor_fitness)\n",
    "        melhor_individuo_ja_visto = populacao[posicao]\n",
    "        melhor_fitness_ja_visto = menor_fitness\n",
    "        print(\"\".join(melhor_individuo_ja_visto), \"- fitness:\", melhor_fitness_ja_visto)\n",
    "\n",
    "print()\n",
    "print(\"Melhor palpite da senha encontrado:\")\n",
    "print(\"\".join(melhor_individuo_ja_visto))"
   ]
  },
  {
   "cell_type": "markdown",
   "metadata": {},
   "source": [
    "## Conclusão\n",
    "\n"
   ]
  },
  {
   "cell_type": "markdown",
   "metadata": {},
   "source": [
    "Podemos concluir, após o desenvolvimento do cóigo, que o uso de algorítimos genéticos são, de fato, o melhor (um, pelo menos, um dos melhores) métodos para a obtenção de uma senha de N caracteres. Afinal, se utilizássemos, por exemplo, uma **busca em grade**, precisaríamos iterar o código um total de n elevado a N vezes, o que seria muito pesado para o computador.\n",
    "\n",
    "Algo muito interessante a se notar, também, é como esse código é **flexível**, visto que pode aceitar várias modificações em suas funções. Uma das modificações proposta sem sala de aula, por exemplo, é uma mudançã na função de **mutação**, para que haja uma probabilidade de mutar cada letra, e não cada palavra, o que provavelmente aumentaria a eficiência desse algoritmo. \n",
    "\n",
    "Além disso, mudando as constantes de busca: percebo que, ao aumentar o número de gerações e o tamanho da população, o tempo de demora para o código rodar aumenta muito (bem mais que os códigos desenvolvidos anteriormente). Entretanto, a probabilidade de acertar a senha com número de gerações e tamanho da população mais altos é maior.\n",
    "\n",
    "Por fim, vale destacar o papel da constante \"NUM_COMBATENTES_NO_TORNEIO\" no desempenho do código: um número de combatentes maior resulta em maior homogenização da população. Por isso, percebi, ao ir mudando o valor dessa constante, que valores maiores geram resultados, normalmente, piores."
   ]
  },
  {
   "cell_type": "markdown",
   "metadata": {},
   "source": [
    "## Playground\n",
    "\n"
   ]
  },
  {
   "cell_type": "code",
   "execution_count": null,
   "metadata": {},
   "outputs": [],
   "source": []
  }
 ],
 "metadata": {
  "kernelspec": {
   "display_name": "ilumpy",
   "language": "python",
   "name": "ilumpy"
  },
  "language_info": {
   "codemirror_mode": {
    "name": "ipython",
    "version": 3
   },
   "file_extension": ".py",
   "mimetype": "text/x-python",
   "name": "python",
   "nbconvert_exporter": "python",
   "pygments_lexer": "ipython3",
   "version": "3.9.7"
  },
  "org": null
 },
 "nbformat": 4,
 "nbformat_minor": 4
}
