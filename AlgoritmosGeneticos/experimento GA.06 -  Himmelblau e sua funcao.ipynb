{
 "cells": [
  {
   "cell_type": "markdown",
   "metadata": {},
   "source": [
    "Escreva aqui o título do seu experimento\n",
    "========================================\n",
    "\n"
   ]
  },
  {
   "cell_type": "markdown",
   "metadata": {},
   "source": [
    "## Introdução\n",
    "\n"
   ]
  },
  {
   "cell_type": "markdown",
   "metadata": {},
   "source": [
    "Esse código encontra um valor de mínimo global para a função de Himmelblau. Como uma primeira análise, pode ser interessante analisar algebricamente essa função, da seguinte forma: $f(x,y)= (x² + y - 11)² + (x+ y²- 7)²$"
   ]
  },
  {
   "cell_type": "code",
   "execution_count": null,
   "metadata": {},
   "outputs": [],
   "source": []
  },
  {
   "cell_type": "markdown",
   "metadata": {},
   "source": [
    "Os quatro pontos mínimos da função de Himmelblau estão localizados em (3, 2), (-2.805118, 3.131312), (-3.779310, -3.283186) e (3.584428, -1.848126)"
   ]
  },
  {
   "cell_type": "markdown",
   "metadata": {},
   "source": [
    "\n",
    "\n"
   ]
  },
  {
   "cell_type": "markdown",
   "metadata": {},
   "source": [
    "## Objetivo\n",
    "\n"
   ]
  },
  {
   "cell_type": "markdown",
   "metadata": {},
   "source": [
    "Sabendo dos diferentes pontos que podem ser encontrados para essa função, o objetivo da presente atividade consiste em encontrar, com auxílio de algoritmos genéticos, o ponto **MÍNIMO GLOBAL** para a função"
   ]
  },
  {
   "cell_type": "markdown",
   "metadata": {
    "tags": []
   },
   "source": [
    "## Importações\n",
    "\n"
   ]
  },
  {
   "cell_type": "markdown",
   "metadata": {},
   "source": [
    "Todos os comandos de `import` devem estar dentro desta seção.\n",
    "\n"
   ]
  },
  {
   "cell_type": "code",
   "execution_count": 1,
   "metadata": {},
   "outputs": [],
   "source": [
    "# Bibliotecas necessárias para rodar as células abaixo!\n",
    "# Para  abusca aleatória:\n",
    "import random\n",
    "from funcoes import populacao_blau\n",
    "from funcoes import selecao_por_torneio_blau as funcao_selecao\n",
    "from funcoes import cruzamento_ponto_simples as funcao_cruzamento\n",
    "from funcoes import mutacao_blau\n",
    "from funcoes import funcao_objetivo_blau\n",
    "from funcoes import funcao_objetivo_pop_blau as funcao_objetivo_pop"
   ]
  },
  {
   "cell_type": "markdown",
   "metadata": {},
   "source": [
    "## Códigos e discussão\n",
    "\n"
   ]
  },
  {
   "cell_type": "markdown",
   "metadata": {},
   "source": [
    "Para resolver esse problema por meio de algoritmos genéticos, é necessário pensar o que eu consideraria como: Gene, Indivíduo, Função objetivo, Seleção, Mutação, Cruzamento.\n",
    "\n",
    "Os `genes` serão valores de x e de y em um determinado intervalo de números. Logo, em cada `ìndivíduo` há dois genes apenas, cada um representando uma coordenada do ponto.\n",
    "\n",
    "O que buscamos, no problema, é o ponto de menor valor da função em um determinado intervalo. Logo, a `função objetivo` deve retornar a projeção de cada ponto (indivíduo) na função $f(x,y)= (x² + y - 11)² + (x+ y²- 7)²$. Por fim, como é uma função de minimização, utilizaremos a mesma `seleção` utilizada no experimento 0.6 das senhas, assim como as mesmas funções de `mutação` e de `cruzamento`.\n",
    "\n"
   ]
  },
  {
   "cell_type": "code",
   "execution_count": 2,
   "metadata": {},
   "outputs": [],
   "source": [
    "# constantes de busca\n",
    "TAMANHO_POP = 12 \n",
    "NUM_GERACOES = 100000 \n",
    "CHANCE_MUTACAO = 0.02 # chance de ocorrer mutação em cada indivíduo durante cada geração\n",
    "LIMITE = []\n",
    "max_limite= 10\n",
    "min_limite= -10\n",
    "incremento= 0.01\n",
    "while min_limite <= max_limite:\n",
    "    # Adicionar o número à lista\n",
    "    LIMITE.append(min_limite)\n",
    "    # Incrementar o número pelo valor do incremento\n",
    "    min_limite += incremento\n",
    "    \n",
    "CHANCE_DE_COMPETIR_IND = 0.5 # chance que cada indivíduo tem de ser chamado para o torneio\n",
    "CHANCE_CRUZAMENTO = 0.5 # chance de ocorrer o cruzamento entre dois indivíduos\n",
    "CHANCE_MUTACAO = 0.02\n",
    "ERRO = 0.00001 # critério de parada\n",
    "\n",
    "# constantes de problema\n",
    "NUM_GENES = 2 # número de genes ou tamanho da senha\n",
    "MINIMO = 0 # valor mínimo estimado para a função"
   ]
  },
  {
   "cell_type": "code",
   "execution_count": 3,
   "metadata": {},
   "outputs": [],
   "source": [
    "# Funções Locais\n",
    "\n",
    "def cria_populacao_inicial(tamanho, numero_genes):\n",
    "    return populacao_blau(tamanho, numero_genes, LIMITE)\n",
    "\n",
    "def funcao_mutacao(individuo):\n",
    "    return mutacao_blau(individuo, LIMITE)"
   ]
  },
  {
   "cell_type": "code",
   "execution_count": 5,
   "metadata": {},
   "outputs": [
    {
     "name": "stdout",
     "output_type": "stream",
     "text": [
      "População inicial:\n",
      "Individuo  1 :  [1.329999999999832, -3.2200000000001445]\n",
      "Individuo  2 :  [1.419999999999832, -6.100000000000083]\n",
      "Individuo  3 :  [-0.9200000000001696, -5.350000000000099]\n",
      "Individuo  4 :  [-8.57000000000003, 2.549999999999821]\n",
      "Individuo  5 :  [1.299999999999832, 1.1699999999998318]\n",
      "Individuo  6 :  [-5.1900000000001025, -2.9500000000001503]\n",
      "Individuo  7 :  [0.29999999999983123, 8.069999999999704]\n",
      "Individuo  8 :  [4.0899999999997885, -1.9400000000001705]\n",
      "Individuo  9 :  [6.84999999999973, 9.499999999999673]\n",
      "Individuo  10 :  [2.439999999999823, 1.1299999999998318]\n",
      "Individuo  11 :  [5.659999999999755, -0.01000000000016889]\n",
      "Individuo  12 :  [-5.980000000000086, -6.780000000000069]\n",
      "\n",
      "População final:\n",
      "Individuo  1 :  [2.9999999999998113, 2.019999999999832] 0.006864159999808442\n",
      "Individuo  2 :  [2.9999999999998113, 2.019999999999832] 0.006864159999808442\n",
      "Individuo  3 :  [2.9999999999998113, 2.019999999999832] 0.006864159999808442\n",
      "Individuo  4 :  [2.9999999999998113, 2.019999999999832] 0.006864159999808442\n",
      "Individuo  5 :  [2.9999999999998113, 1.9999999999998326] 2.4268927095889922e-24\n",
      "Individuo  6 :  [2.9999999999998113, 2.019999999999832] 0.006864159999808442\n",
      "Individuo  7 :  [2.9999999999998113, 2.019999999999832] 0.006864159999808442\n",
      "Individuo  8 :  [2.9999999999998113, 2.019999999999832] 0.006864159999808442\n",
      "Individuo  9 :  [2.9999999999998113, 2.019999999999832] 0.006864159999808442\n",
      "Individuo  10 :  [2.9999999999998113, 2.019999999999832] 0.006864159999808442\n",
      "Individuo  11 :  [2.9999999999998113, 2.019999999999832] 0.006864159999808442\n",
      "Individuo  12 :  [2.9999999999998113, 2.019999999999832] 0.006864159999808442\n",
      "[2.9999999999998113, 1.9999999999998326]\n",
      "2.4268927095889922e-24\n"
     ]
    }
   ],
   "source": [
    "populacao = cria_populacao_inicial(TAMANHO_POP, NUM_GENES) # cria aleatoriamente uma população inicial\n",
    "\n",
    "print('População inicial:') # mostra qual foi a população criada aleatoriamente\n",
    "for i, ind in enumerate(populacao):\n",
    "    print('Individuo ', i+1, ': ', ind)\n",
    "    \n",
    "melhor_fitness_ja_visto = float(\"inf\")  # é assim que escrevemos infinito em python\n",
    "\n",
    "#for _ in range(NUM_GERACOES): # loop que começa a rodar cada geração\n",
    "while melhor_fitness_ja_visto >= (MINIMO + ERRO):\n",
    "   \n",
    "    # Única alteração na estrutura do código\n",
    "    populacao = funcao_selecao(populacao, CHANCE_DE_COMPETIR_IND) # Tem a função de sortear individuos na população e troca-los pelo melhor entre eles\n",
    "    \n",
    "    pais = populacao[0::2] # definição dos indivíduos que serão pais\n",
    "    maes = populacao[1::2] # definição dos indivíduos que serão mães\n",
    "    contador = 0 # estratégia para colocar os filhos no lugar dos pais\n",
    "    for pai, mae in zip(pais, maes): # laço de repetição para pegar itens da lista de pais e mães\n",
    "        if random.random() < CHANCE_CRUZAMENTO: # aplicando a possibilidade de cruzamento\n",
    "            # vai acertar o cruzamento\n",
    "            filho1, filho2 = funcao_cruzamento(pai, mae) # \"calculando\" o filho 1 e o filho 2\n",
    "            populacao[contador] = filho1 # trocando o pai pelo filho 1\n",
    "            populacao[contador + 1] = filho2 # trocando a mãe pelo filho 2\n",
    "            \n",
    "        contador = contador + 2 # atualização do contador\n",
    "    \n",
    "    for n in range(len(populacao)): #laço de repetição para mutação\n",
    "        if random.random() <= CHANCE_MUTACAO: # chance de mutação\n",
    "            individuo = populacao[n] # esxolhe o indivíduo\n",
    "            populacao[n] = funcao_mutacao(individuo) # muta o indivíduo\n",
    "            \n",
    "    # melhor individuo já visto até agora\n",
    "    fitness = funcao_objetivo_pop(populacao)\n",
    "    menor_fitness = min(fitness)\n",
    "    if menor_fitness < melhor_fitness_ja_visto:        \n",
    "        posicao = fitness.index(menor_fitness)\n",
    "        melhor_individuo_ja_visto = populacao[posicao]\n",
    "        melhor_fitness_ja_visto = menor_fitness\n",
    "        \n",
    "    \n",
    "print()\n",
    "print('População final:') # mostra qual foi a população final selecionada geneticamente\n",
    "for i, ind in enumerate(populacao):\n",
    "    print('Individuo ', i+1, ': ', ind, funcao_objetivo_blau(ind))\n",
    "print(melhor_individuo_ja_visto)\n",
    "print(melhor_fitness_ja_visto)"
   ]
  },
  {
   "cell_type": "code",
   "execution_count": 8,
   "metadata": {},
   "outputs": [
    {
     "name": "stdout",
     "output_type": "stream",
     "text": [
      "População inicial:\n",
      "Individuo  1 :  [6.309999999999741, 0.8899999999998317]\n",
      "Individuo  2 :  [4.109999999999788, -5.480000000000096]\n",
      "Individuo  3 :  [1.329999999999832, 2.499999999999822]\n",
      "Individuo  4 :  [-2.350000000000163, -2.6100000000001575]\n",
      "Individuo  5 :  [8.579999999999693, -3.990000000000128]\n",
      "Individuo  6 :  [-9.400000000000013, -6.540000000000074]\n",
      "Individuo  7 :  [-4.4900000000001175, -6.990000000000064]\n",
      "Individuo  8 :  [-3.7400000000001334, -7.140000000000061]\n",
      "Individuo  9 :  [-4.450000000000118, 3.899999999999792]\n",
      "Individuo  10 :  [-7.400000000000055, 8.299999999999699]\n",
      "Individuo  11 :  [-4.530000000000117, 8.019999999999705]\n",
      "Individuo  12 :  [7.509999999999716, 0.04999999999983112]\n",
      "População inicial:\n",
      "Individuo  1 :  [7.349999999999719, 6.219999999999743]\n",
      "Individuo  2 :  [7.909999999999707, -4.000000000000128]\n",
      "Individuo  3 :  [-5.150000000000103, 2.5199999999998215]\n",
      "Individuo  4 :  [-9.950000000000001, -8.240000000000038]\n",
      "Individuo  5 :  [2.3399999999998253, -7.550000000000052]\n",
      "Individuo  6 :  [-7.400000000000055, 0.2799999999998312]\n",
      "Individuo  7 :  [-9.07000000000002, 3.7799999999997946]\n",
      "Individuo  8 :  [6.639999999999734, -8.470000000000033]\n",
      "Individuo  9 :  [-5.830000000000089, -0.6300000000001693]\n",
      "Individuo  10 :  [-9.220000000000017, -4.750000000000112]\n",
      "Individuo  11 :  [-4.37000000000012, -9.250000000000016]\n",
      "Individuo  12 :  [-1.42000000000017, 4.389999999999782]\n",
      "População inicial:\n",
      "Individuo  1 :  [-8.10000000000004, 9.16999999999968]\n",
      "Individuo  2 :  [-4.530000000000117, 5.819999999999752]\n",
      "Individuo  3 :  [-7.010000000000064, 6.219999999999743]\n",
      "Individuo  4 :  [-8.12000000000004, 2.0099999999998324]\n",
      "Individuo  5 :  [2.9399999999998125, -0.7600000000001694]\n",
      "Individuo  6 :  [-6.2700000000000795, -5.350000000000099]\n",
      "Individuo  7 :  [7.449999999999717, -9.04000000000002]\n",
      "Individuo  8 :  [4.859999999999772, -5.040000000000106]\n",
      "Individuo  9 :  [-4.570000000000116, -6.070000000000084]\n",
      "Individuo  10 :  [-4.470000000000118, 6.419999999999739]\n",
      "Individuo  11 :  [7.149999999999723, -2.4600000000001607]\n",
      "Individuo  12 :  [-4.220000000000123, -1.1700000000001698]\n",
      "População inicial:\n",
      "Individuo  1 :  [-4.36000000000012, 2.679999999999818]\n",
      "Individuo  2 :  [-7.110000000000062, -8.820000000000025]\n",
      "Individuo  3 :  [-5.530000000000095, -6.160000000000082]\n",
      "Individuo  4 :  [-0.9700000000001696, -4.710000000000113]\n",
      "Individuo  5 :  [9.989999999999663, -6.000000000000085]\n",
      "Individuo  6 :  [4.319999999999784, -8.260000000000037]\n",
      "Individuo  7 :  [7.349999999999719, -1.45000000000017]\n",
      "Individuo  8 :  [-9.110000000000019, -8.210000000000038]\n",
      "Individuo  9 :  [-3.610000000000136, -5.220000000000102]\n",
      "Individuo  10 :  [3.1799999999998074, -2.3800000000001624]\n",
      "Individuo  11 :  [6.599999999999735, -5.920000000000087]\n",
      "Individuo  12 :  [3.629999999999798, -5.8000000000000895]\n",
      "População inicial:\n",
      "Individuo  1 :  [-9.780000000000005, 7.869999999999708]\n",
      "Individuo  2 :  [-4.190000000000124, -6.750000000000069]\n",
      "Individuo  3 :  [9.20999999999968, -0.21000000000016894]\n",
      "Individuo  4 :  [9.569999999999672, 3.0299999999998106]\n",
      "Individuo  5 :  [-7.480000000000054, -8.940000000000023]\n",
      "Individuo  6 :  [5.719999999999754, 8.499999999999694]\n",
      "Individuo  7 :  [3.5199999999998, -6.620000000000072]\n",
      "Individuo  8 :  [-8.990000000000022, -0.5600000000001693]\n",
      "Individuo  9 :  [8.509999999999694, 4.95999999999977]\n",
      "Individuo  10 :  [-2.080000000000169, 4.339999999999783]\n",
      "Individuo  11 :  [-0.02000000000016889, -5.170000000000103]\n",
      "Individuo  12 :  [2.6499999999998187, -5.400000000000098]\n",
      "População inicial:\n",
      "Individuo  1 :  [2.299999999999826, -4.420000000000119]\n",
      "Individuo  2 :  [-4.38000000000012, 7.059999999999725]\n",
      "Individuo  3 :  [-1.36000000000017, -0.0600000000001689]\n",
      "Individuo  4 :  [7.589999999999714, -1.34000000000017]\n",
      "Individuo  5 :  [-8.540000000000031, 0.11999999999983109]\n",
      "Individuo  6 :  [-5.820000000000089, -3.290000000000143]\n",
      "Individuo  7 :  [3.809999999999794, -7.140000000000061]\n",
      "Individuo  8 :  [0.4999999999998314, 6.169999999999744]\n",
      "Individuo  9 :  [-9.450000000000012, -3.0700000000001477]\n",
      "Individuo  10 :  [-5.000000000000107, 4.849999999999772]\n",
      "Individuo  11 :  [0.1599999999998311, -4.920000000000108]\n",
      "Individuo  12 :  [5.679999999999755, 4.879999999999772]\n",
      "População inicial:\n",
      "Individuo  1 :  [-9.220000000000017, 3.5899999999997987]\n",
      "Individuo  2 :  [-4.470000000000118, -5.740000000000091]\n",
      "Individuo  3 :  [-3.660000000000135, 3.299999999999805]\n",
      "Individuo  4 :  [0.6099999999998315, -4.600000000000115]\n",
      "Individuo  5 :  [-1.1700000000001698, -7.320000000000057]\n",
      "Individuo  6 :  [-1.0200000000001697, -7.870000000000045]\n",
      "Individuo  7 :  [-6.350000000000078, 6.6199999999997345]\n",
      "Individuo  8 :  [-1.6600000000001702, -0.5000000000001692]\n",
      "Individuo  9 :  [1.5299999999998322, -5.3300000000000995]\n",
      "Individuo  10 :  [-6.890000000000066, -1.8100000000001704]\n",
      "Individuo  11 :  [9.329999999999677, 7.519999999999715]\n",
      "Individuo  12 :  [4.459999999999781, -6.540000000000074]\n",
      "População inicial:\n",
      "Individuo  1 :  [6.439999999999738, -6.1300000000000825]\n",
      "Individuo  2 :  [7.75999999999971, 0.20999999999983116]\n",
      "Individuo  3 :  [1.8699999999998325, -4.6300000000001145]\n",
      "Individuo  4 :  [-4.750000000000112, -7.0700000000000625]\n",
      "Individuo  5 :  [-1.8200000000001704, 4.809999999999773]\n",
      "Individuo  6 :  [-6.300000000000079, -7.66000000000005]\n",
      "Individuo  7 :  [9.64999999999967, 5.5899999999997565]\n",
      "Individuo  8 :  [7.479999999999716, -7.67000000000005]\n",
      "Individuo  9 :  [9.029999999999683, -7.690000000000049]\n",
      "Individuo  10 :  [-0.7500000000001694, 1.299999999999832]\n",
      "Individuo  11 :  [-1.7200000000001703, -8.730000000000027]\n",
      "Individuo  12 :  [2.029999999999832, -1.6300000000001702]\n",
      "População inicial:\n",
      "Individuo  1 :  [7.869999999999708, 6.779999999999731]\n",
      "Individuo  2 :  [4.859999999999772, -9.610000000000008]\n",
      "Individuo  3 :  [4.419999999999781, -9.010000000000021]\n",
      "Individuo  4 :  [-6.010000000000085, -0.3900000000001691]\n",
      "Individuo  5 :  [-1.1800000000001698, -9.160000000000018]\n",
      "Individuo  6 :  [-0.9200000000001696, 8.309999999999699]\n",
      "Individuo  7 :  [1.6499999999998323, -7.64000000000005]\n",
      "Individuo  8 :  [6.569999999999736, 0.07999999999983111]\n",
      "Individuo  9 :  [7.199999999999722, -3.860000000000131]\n",
      "Individuo  10 :  [9.259999999999678, 3.209999999999807]\n",
      "Individuo  11 :  [-9.160000000000018, -3.390000000000141]\n",
      "Individuo  12 :  [-4.3000000000001215, 8.829999999999687]\n",
      "População inicial:\n",
      "Individuo  1 :  [-5.910000000000087, -7.540000000000052]\n",
      "Individuo  2 :  [7.069999999999725, -3.4200000000001403]\n",
      "Individuo  3 :  [-8.680000000000028, 7.199999999999722]\n",
      "Individuo  4 :  [-5.79000000000009, -9.460000000000012]\n",
      "Individuo  5 :  [-4.180000000000124, -3.150000000000146]\n",
      "Individuo  6 :  [-0.6000000000001693, -3.9700000000001285]\n",
      "Individuo  7 :  [0.18999999999983114, 5.87999999999975]\n",
      "Individuo  8 :  [-9.10000000000002, -2.1500000000001673]\n",
      "Individuo  9 :  [1.0899999999998318, 7.579999999999714]\n",
      "Individuo  10 :  [-8.420000000000034, 9.859999999999665]\n",
      "Individuo  11 :  [2.2899999999998264, 5.87999999999975]\n",
      "Individuo  12 :  [2.1399999999998296, 3.2599999999998057]\n",
      "[[2.9999999999998113, 1.9999999999998326], [2.9999999999998113, 1.9999999999998326], [2.9999999999998113, 1.9999999999998326], [2.9999999999998113, 1.9999999999998326], [2.9999999999998113, 1.9999999999998326], [2.9999999999998113, 1.9999999999998326], [2.9999999999998113, 1.9999999999998326], [2.9999999999998113, 1.9999999999998326], [2.9999999999998113, 1.9999999999998326], [2.9999999999998113, 1.9999999999998326]]\n"
     ]
    }
   ],
   "source": [
    "lista= []\n",
    "for _ in range (10):\n",
    "    populacao = cria_populacao_inicial(TAMANHO_POP, NUM_GENES) # cria aleatoriamente uma população inicial\n",
    "\n",
    "    print('População inicial:') # mostra qual foi a população criada aleatoriamente\n",
    "    for i, ind in enumerate(populacao):\n",
    "        print('Individuo ', i+1, ': ', ind)\n",
    "    \n",
    "    melhor_fitness_ja_visto = float(\"inf\")  # é assim que escrevemos infinito em python\n",
    "\n",
    "    #for _ in range(NUM_GERACOES): # loop que começa a rodar cada geração\n",
    "    while melhor_fitness_ja_visto >= (MINIMO + ERRO):\n",
    "   \n",
    "        # Única alteração na estrutura do código\n",
    "        populacao = funcao_selecao(populacao, CHANCE_DE_COMPETIR_IND) # Tem a função de sortear individuos na população e troca-los pelo melhor entre eles\n",
    "    \n",
    "        pais = populacao[0::2] # definição dos indivíduos que serão pais\n",
    "        maes = populacao[1::2] # definição dos indivíduos que serão mães\n",
    "        contador = 0 # estratégia para colocar os filhos no lugar dos pais\n",
    "        for pai, mae in zip(pais, maes): # laço de repetição para pegar itens da lista de pais e mães\n",
    "            if random.random() < CHANCE_CRUZAMENTO: # aplicando a possibilidade de cruzamento\n",
    "                # vai acertar o cruzamento\n",
    "                filho1, filho2 = funcao_cruzamento(pai, mae) # \"calculando\" o filho 1 e o filho 2\n",
    "                populacao[contador] = filho1 # trocando o pai pelo filho 1\n",
    "                populacao[contador + 1] = filho2 # trocando a mãe pelo filho 2\n",
    "            \n",
    "            contador = contador + 2 # atualização do contador\n",
    "    \n",
    "        for n in range(len(populacao)): #laço de repetição para mutação\n",
    "            if random.random() <= CHANCE_MUTACAO: # chance de mutação\n",
    "                individuo = populacao[n] # esxolhe o indivíduo\n",
    "                populacao[n] = funcao_mutacao(individuo) # muta o indivíduo\n",
    "            \n",
    "        # melhor individuo já visto até agora\n",
    "        fitness = funcao_objetivo_pop(populacao)\n",
    "        menor_fitness = min(fitness)\n",
    "        if menor_fitness < melhor_fitness_ja_visto:        \n",
    "            posicao = fitness.index(menor_fitness)\n",
    "            melhor_individuo_ja_visto = populacao[posicao]\n",
    "            melhor_fitness_ja_visto = menor_fitness\n",
    "    lista.append(melhor_individuo_ja_visto)\n",
    "print(lista)"
   ]
  },
  {
   "cell_type": "code",
   "execution_count": null,
   "metadata": {},
   "outputs": [],
   "source": []
  },
  {
   "cell_type": "markdown",
   "metadata": {},
   "source": [
    "## Conclusão\n",
    "\n"
   ]
  },
  {
   "cell_type": "markdown",
   "metadata": {},
   "source": [
    "Delete este texto e escreva sua conclusão.\n",
    "\n"
   ]
  },
  {
   "cell_type": "markdown",
   "metadata": {},
   "source": [
    "## Referências consultadas\n",
    "\n"
   ]
  },
  {
   "cell_type": "markdown",
   "metadata": {},
   "source": [
    "1.  Delete este texto e inclua suas referências ordenadas numericamente. Se for referenciar no notebook, use o número entre colchetes (exemplo: para citar essa referência aqui escreva &ldquo;[1]&rdquo; sem as áspas).\n",
    "\n",
    "2.  Cada item deve ser numerado. Siga o padrão apresentado.\n",
    "\n",
    "3.  Caso não tenha nenhuma referência consultada, delete esta seção e o texto contido nela!\n",
    "\n"
   ]
  },
  {
   "cell_type": "markdown",
   "metadata": {},
   "source": [
    "## Playground\n",
    "\n"
   ]
  },
  {
   "cell_type": "markdown",
   "metadata": {},
   "source": [
    "Todo código de teste que não faz parte do seu experimento deve vir aqui. Este código não será considerado na avaliação.\n",
    "\n"
   ]
  },
  {
   "cell_type": "code",
   "execution_count": null,
   "metadata": {},
   "outputs": [],
   "source": []
  }
 ],
 "metadata": {
  "kernelspec": {
   "display_name": "ilumpy",
   "language": "python",
   "name": "ilumpy"
  },
  "language_info": {
   "codemirror_mode": {
    "name": "ipython",
    "version": 3
   },
   "file_extension": ".py",
   "mimetype": "text/x-python",
   "name": "python",
   "nbconvert_exporter": "python",
   "pygments_lexer": "ipython3",
   "version": "3.9.7"
  },
  "org": null
 },
 "nbformat": 4,
 "nbformat_minor": 4
}
