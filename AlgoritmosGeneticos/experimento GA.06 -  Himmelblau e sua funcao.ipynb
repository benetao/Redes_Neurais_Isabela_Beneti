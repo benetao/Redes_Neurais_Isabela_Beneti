{
 "cells": [
  {
   "cell_type": "markdown",
   "metadata": {},
   "source": [
    "Himmelblau e sua função\n",
    "========================================\n",
    "\n"
   ]
  },
  {
   "cell_type": "markdown",
   "metadata": {},
   "source": [
    "## Introdução\n",
    "\n"
   ]
  },
  {
   "cell_type": "markdown",
   "metadata": {},
   "source": [
    "Esse código encontra um valor de mínimo global para a função de Himmelblau. Como uma primeira análise, pode ser interessante analisar algebricamente essa função, da seguinte forma: $f(x,y)= (x² + y - 11)² + (x+ y²- 7)²$. Depois, vale levar em consideração a sua representação algébrica, que pode ser vista na imagem abaixo [1]"
   ]
  },
  {
   "cell_type": "markdown",
   "metadata": {},
   "source": [
    "<p align=\"center\"><img heigth= 440 width= 620 src=\"https://user-images.githubusercontent.com/106626661/230674678-4f9e6c5a-753a-4cc2-b7c4-6ef15230dc1b.png\"></p>"
   ]
  },
  {
   "cell_type": "markdown",
   "metadata": {},
   "source": [
    "No gráfico, podemos observar que a função possui quatro pontos mínimos, que estão localizados em (3, 2), (-2.805118, 3.131312), (-3.779310, -3.283186) e (3.584428, -1.848126) [2].\n",
    "Logo, espera-se que nosso algoritmo genético retorne coordenadas próximas de algum desses pontos"
   ]
  },
  {
   "cell_type": "markdown",
   "metadata": {},
   "source": [
    "\n",
    "\n"
   ]
  },
  {
   "cell_type": "markdown",
   "metadata": {},
   "source": [
    "## Objetivo\n",
    "\n"
   ]
  },
  {
   "cell_type": "markdown",
   "metadata": {},
   "source": [
    "Sabendo dos diferentes pontos que podem ser encontrados para essa função, o objetivo da presente atividade consiste em encontrar, com auxílio de algoritmos genéticos, o ponto **MÍNIMO GLOBAL** para a função"
   ]
  },
  {
   "cell_type": "markdown",
   "metadata": {
    "tags": []
   },
   "source": [
    "## Importações\n",
    "\n"
   ]
  },
  {
   "cell_type": "markdown",
   "metadata": {},
   "source": [
    "Todos os comandos de `import` devem estar dentro desta seção.\n",
    "\n"
   ]
  },
  {
   "cell_type": "code",
   "execution_count": 1,
   "metadata": {},
   "outputs": [],
   "source": [
    "# Bibliotecas necessárias para rodar as células abaixo!\n",
    "# Para  abusca aleatória:\n",
    "import random\n",
    "import matplotlib.pyplot as plt\n",
    "from funcoes import populacao_blau\n",
    "from funcoes import torneio_blau as funcao_selecao \n",
    "from funcoes import cruzamento_ponto_simples as funcao_cruzamento\n",
    "from funcoes import mutacao_blau\n",
    "from funcoes import funcao_objetivo_blau\n",
    "from funcoes import funcao_objetivo_pop_blau as funcao_objetivo_pop"
   ]
  },
  {
   "cell_type": "markdown",
   "metadata": {},
   "source": [
    "## Códigos e discussão\n",
    "\n"
   ]
  },
  {
   "cell_type": "markdown",
   "metadata": {},
   "source": [
    "Para resolver esse problema por meio de algoritmos genéticos, é necessário pensar o que eu devo considerar como: Gene, Indivíduo, Função objetivo, Seleção, Mutação, Cruzamento e Critério de Parada.\n",
    "\n",
    "Os `genes` serão valores de x e de y em um determinado intervalo de números. Logo, cada `ìndivíduo` é uma lista que contem apenas dois genes, cada um representando uma coordenada do ponto. O intervalo em que as coordenadas devem estar pode variar, mas, sabendo que os pontos mínimos de Himmelblau são (3, 2), (-2.805118, 3.131312), (-3.779310, -3.283186) e (3.584428, -1.848126) [1], é bom estabelecermos um domínio que não vá muito abaixo de -4 nem muito acima de 4, visto que nenhum mínimo será encontrado fora desses limites.\n",
    "\n",
    "O que buscamos, nesse problema, é o ponto de menor valor da função em um determinado intervalo. Logo, a `função objetivo` deve retornar a projeção de cada ponto (indivíduo) na função $f(x,y)= (x² + y - 11)² + (x+ y²- 7)²$. Por fim, como é uma função de minimização, utilizaremos a mesma `seleção` utilizada no experimento 0.6 das senhas, assim como as mesmas funções de `mutação` e de `cruzamento`.\n",
    "\n",
    "Por fim, o `critério de parada` pode ser simplesmente o número de gerações que estabelecemos como constante de busca, assim como estabelecemos em experimentos passados. No entanto, sabendo que o mínimo dessa função é 0, estabelecerei o critério como o \"erro\" máximo a ser aceito pelo código. Ou seja, se a resposta encontrada se aproximar o suficiente de 0, o código já poderá parar de rodar.\n"
   ]
  },
  {
   "cell_type": "code",
   "execution_count": 2,
   "metadata": {},
   "outputs": [],
   "source": [
    "# constantes de busca\n",
    "TAMANHO_POP = 12 # quantidade de indivíduos\n",
    "NUM_GERACOES = 1000 # número de gerações\n",
    "CHANCE_DE_COMPETIR_IND = 0.5 # chance que cada indivíduo tem de ser chamado para o torneio\n",
    "CHANCE_CRUZAMENTO = 0.5 # chance de ocorrer o cruzamento entre dois indivíduos\n",
    "CHANCE_MUTACAO = 0.02 # chance de ocorrer mutação em cada indivíduo durante cada geração\n",
    "LIMITE_INFERIOR_DOMINIO = -10 # Menor valor possível para x ou y\n",
    "LIMITE_SUPERIOR_DOMINIO = 10 # Maior valor possível para x ou y\n",
    "PASSO = 0.00001 # intervalo entre cada elemento do domínio\n",
    "DOMINIO=[]\n",
    "incremento= 0.001\n",
    "while LIMITE_INFERIOR_DOMINIO <= LIMITE_SUPERIOR_DOMINIO:\n",
    "    # Adicionar o número à lista\n",
    "    DOMINIO.append(LIMITE_INFERIOR_DOMINIO)\n",
    "    # Incrementar o número pelo valor do incremento\n",
    "    LIMITE_INFERIOR_DOMINIO += incremento\n",
    "ERRO = 0.001 # erro aceito para o critério de parada\n",
    "\n",
    "# constantes de problema\n",
    "NUM_GENES = 2 # número de genes ou tamanho da senha\n",
    "MINIMO = 0 # valor mínimo estimado para a função"
   ]
  },
  {
   "cell_type": "code",
   "execution_count": 3,
   "metadata": {},
   "outputs": [],
   "source": [
    "# Funções Locais\n",
    "def cria_populacao_inicial(tamanho, numero_genes):\n",
    "    return populacao_blau(tamanho, numero_genes, DOMINIO)\n",
    "\n",
    "def funcao_mutacao(individuo):\n",
    "    return mutacao_blau(individuo, DOMINIO)"
   ]
  },
  {
   "cell_type": "code",
   "execution_count": 4,
   "metadata": {},
   "outputs": [
    {
     "name": "stdout",
     "output_type": "stream",
     "text": [
      "População inicial:\n",
      "Individuo  1 :  [-4.4069999999999085, 8.827000000000444]\n",
      "Individuo  2 :  [5.207999999999971, 4.911999999999872]\n",
      "Individuo  3 :  [7.101000000000603, 9.192000000000242]\n",
      "Individuo  4 :  [5.067999999999924, 1.6359999999998283]\n",
      "Individuo  5 :  [-2.9539999999998883, -7.917000000001081]\n",
      "Individuo  6 :  [-0.446000000000103, -1.7070000000000256]\n",
      "Individuo  7 :  [-3.5219999999998257, -1.631000000000034]\n",
      "Individuo  8 :  [-5.294000000000205, 1.9449999999997942]\n",
      "Individuo  9 :  [-1.132000000000089, 3.7239999999995983]\n",
      "Individuo  10 :  [0.2529999999998976, 5.783000000000163]\n",
      "Individuo  11 :  [-2.9149999999998926, -2.39399999999995]\n",
      "Individuo  12 :  [-0.8530000000001033, 2.219999999999764]\n",
      "\n",
      "População final:\n",
      "Individuo  1 :  [-2.8049999999999047, 3.135999999999663] 0.0008862146408738853\n",
      "Individuo  2 :  [-2.8049999999999047, 3.135999999999663] 0.0008862146408738853\n",
      "Individuo  3 :  [-2.8049999999999047, 3.135999999999663] 0.0008862146408738853\n",
      "Individuo  4 :  [-2.8049999999999047, 3.135999999999663] 0.0008862146408738853\n",
      "Individuo  5 :  [-2.8049999999999047, 3.135999999999663] 0.0008862146408738853\n",
      "Individuo  6 :  [-2.8049999999999047, 3.135999999999663] 0.0008862146408738853\n",
      "Individuo  7 :  [-2.8049999999999047, 3.135999999999663] 0.0008862146408738853\n",
      "Individuo  8 :  [-2.8049999999999047, 3.135999999999663] 0.0008862146408738853\n",
      "Individuo  9 :  [-2.8049999999999047, -3.6429999999998124] 57.916554920221884\n",
      "Individuo  10 :  [-2.8049999999999047, 3.125999999999664] 0.0011329000011431327\n",
      "Individuo  11 :  [-2.8049999999999047, 3.135999999999663] 0.0008862146408738853\n",
      "Individuo  12 :  [-2.8049999999999047, 3.125999999999664] 0.0011329000011431327\n",
      "[-2.8049999999999047, 3.135999999999663]\n",
      "0.0008862146408738853\n"
     ]
    }
   ],
   "source": [
    "populacao = cria_populacao_inicial(TAMANHO_POP, NUM_GENES) # cria aleatoriamente uma população inicial\n",
    "\n",
    "print('População inicial:') # mostra qual foi a população criada aleatoriamente\n",
    "for i, ind in enumerate(populacao):\n",
    "    print('Individuo ', i+1, ': ', ind)\n",
    "    \n",
    "melhor_fitness_ja_visto = float(\"inf\")  # é assim que escrevemos infinito em python\n",
    "\n",
    "#for _ in range(NUM_GERACOES): # loop que começa a rodar cada geração\n",
    "while melhor_fitness_ja_visto >= (MINIMO + ERRO):\n",
    "   \n",
    "    # Única alteração na estrutura do código\n",
    "    populacao = funcao_selecao(populacao, CHANCE_DE_COMPETIR_IND) # Tem a função de sortear individuos na população e troca-los pelo melhor entre eles\n",
    "    \n",
    "    pais = populacao[0::2] # definição dos indivíduos que serão pais\n",
    "    maes = populacao[1::2] # definição dos indivíduos que serão mães\n",
    "    contador = 0 # estratégia para colocar os filhos no lugar dos pais\n",
    "    for pai, mae in zip(pais, maes): # laço de repetição para pegar itens da lista de pais e mães\n",
    "        if random.random() < CHANCE_CRUZAMENTO: # aplicando a possibilidade de cruzamento\n",
    "            # vai acertar o cruzamento\n",
    "            filho1, filho2 = funcao_cruzamento(pai, mae) # \"calculando\" o filho 1 e o filho 2\n",
    "            populacao[contador] = filho1 # trocando o pai pelo filho 1\n",
    "            populacao[contador + 1] = filho2 # trocando a mãe pelo filho 2\n",
    "            \n",
    "        contador = contador + 2 # atualização do contador\n",
    "    \n",
    "    for n in range(len(populacao)): #laço de repetição para mutação\n",
    "        if random.random() <= CHANCE_MUTACAO: # chance de mutação\n",
    "            individuo = populacao[n] # esxolhe o indivíduo\n",
    "            populacao[n] = funcao_mutacao(individuo) # muta o indivíduo\n",
    "            \n",
    "    # melhor individuo já visto até agora\n",
    "    fitness = funcao_objetivo_pop(populacao)\n",
    "    menor_fitness = min(fitness)\n",
    "    if menor_fitness < melhor_fitness_ja_visto:        \n",
    "        posicao = fitness.index(menor_fitness)\n",
    "        melhor_individuo_ja_visto = populacao[posicao]\n",
    "        melhor_fitness_ja_visto = menor_fitness\n",
    "        \n",
    "    \n",
    "print()\n",
    "print('População final:') # mostra qual foi a população final selecionada geneticamente\n",
    "for i, ind in enumerate(populacao):\n",
    "    print('Individuo ', i+1, ': ', ind, funcao_objetivo_blau(ind))\n",
    "print(melhor_individuo_ja_visto)\n",
    "print(melhor_fitness_ja_visto)"
   ]
  },
  {
   "cell_type": "markdown",
   "metadata": {},
   "source": [
    "Uau!!! Como podemos ver na resposta acima, o código gerou um ponto bem próximo de (-2.805118, 3.131312), que é justamente um dos mínimos de Himmelblau. Se rodarmos outras vezes esse código, ele pode nos retornar novamente um resultado próximo a esse OU algum próximo a  (3.584428, -1.848126), (-3.779310, -3.283186) ou (3, 2), que são os outros 3 pontos mínimos."
   ]
  },
  {
   "cell_type": "markdown",
   "metadata": {},
   "source": [
    "##\n",
    "### Analisando várias respostas do código"
   ]
  },
  {
   "cell_type": "markdown",
   "metadata": {},
   "source": [
    "Agora, é válido analisar como esse algoritmo genético se comporta quando rodado várias vezes, isto é, verificar quais mínimos esse código retorna."
   ]
  },
  {
   "cell_type": "code",
   "execution_count": 5,
   "metadata": {},
   "outputs": [],
   "source": [
    "coordenadas= []\n",
    "vezes_rodadas= 20 # Vamos rodar o código 40 vezes e ver como suas respostas se comportam, plotando-as num gráfico!\n",
    "for _ in range (vezes_rodadas):\n",
    "    populacao = cria_populacao_inicial(TAMANHO_POP, NUM_GENES) # cria aleatoriamente uma população inicial\n",
    "    melhor_fitness_ja_visto = float(\"inf\")  # é assim que escrevemos infinito em python\n",
    "\n",
    "    while melhor_fitness_ja_visto >= (MINIMO + ERRO):\n",
    "   \n",
    "        # Única alteração na estrutura do código\n",
    "        populacao = funcao_selecao(populacao, CHANCE_DE_COMPETIR_IND) # Tem a função de sortear individuos na população e troca-los pelo melhor entre eles\n",
    "    \n",
    "        pais = populacao[0::2] # definição dos indivíduos que serão pais\n",
    "        maes = populacao[1::2] # definição dos indivíduos que serão mães\n",
    "        contador = 0 # estratégia para colocar os filhos no lugar dos pais\n",
    "        for pai, mae in zip(pais, maes): # laço de repetição para pegar itens da lista de pais e mães\n",
    "            if random.random() < CHANCE_CRUZAMENTO: # aplicando a possibilidade de cruzamento\n",
    "                # vai acertar o cruzamento\n",
    "                filho1, filho2 = funcao_cruzamento(pai, mae) # \"calculando\" o filho 1 e o filho 2\n",
    "                populacao[contador] = filho1 # trocando o pai pelo filho 1\n",
    "                populacao[contador + 1] = filho2 # trocando a mãe pelo filho 2\n",
    "            \n",
    "            contador = contador + 2 # atualização do contador\n",
    "    \n",
    "        for n in range(len(populacao)): #laço de repetição para mutação\n",
    "            if random.random() <= CHANCE_MUTACAO: # chance de mutação\n",
    "                individuo = populacao[n] # esxolhe o indivíduo\n",
    "                populacao[n] = funcao_mutacao(individuo) # muta o indivíduo\n",
    "            \n",
    "        # melhor individuo já visto até agora\n",
    "        fitness = funcao_objetivo_pop(populacao)\n",
    "        menor_fitness = min(fitness)\n",
    "        if menor_fitness < melhor_fitness_ja_visto:        \n",
    "            posicao = fitness.index(menor_fitness)\n",
    "            melhor_individuo_ja_visto = populacao[posicao]\n",
    "            melhor_fitness_ja_visto = menor_fitness\n",
    "    coordenadas.append(melhor_individuo_ja_visto) # todas as 20 respostas serão armazenadas nessa lista"
   ]
  },
  {
   "cell_type": "code",
   "execution_count": 6,
   "metadata": {},
   "outputs": [
    {
     "data": {
      "image/png": "[encoded data removed]",
      "text/plain": [
       "<Figure size 432x288 with 1 Axes>"
      ]
     },
     "metadata": {
      "needs_background": "light"
     },
     "output_type": "display_data"
    }
   ],
   "source": [
    "# tendo armazenado as respostas na lista \"coordenadas\", vamos plotá-las num gráfico\n",
    "x = [coord[0] for coord in coordenadas]\n",
    "y = [coord[1] for coord in coordenadas]\n",
    "plt.scatter(x, y)\n",
    "plt.xlim(-5, 5)\n",
    "plt.ylim(-5, 5)\n",
    "plt.title('Mínimos encontrados pelo algoritmo genético')\n",
    "plt.xlabel('Coordenada X')\n",
    "plt.ylabel('Coordenada Y')\n",
    "\n",
    "# Exibe o gráfico\n",
    "plt.show()"
   ]
  },
  {
   "cell_type": "markdown",
   "metadata": {},
   "source": [
    "Yay!!! Rodando o algoritmo genético 20 vezes, ele encontrou todas os 4 mínimos da função de Himmelblau, que coincidem, inclusive, com os mínimos do gráfico presente na Introdução do Notebook."
   ]
  },
  {
   "cell_type": "markdown",
   "metadata": {},
   "source": [
    "## Conclusão\n",
    "\n"
   ]
  },
  {
   "cell_type": "markdown",
   "metadata": {},
   "source": [
    "Rodando o código que retorna apenas uma resposta, percebe-se que, no intervalo estabelecido (-6 a 6, com passo de 0.01), essa resposta pode variar entre os quatro mínimos da função de Himmelblau. Essa variação ratifica a observação feita nas conclusões do experimento A 0.3 [3] de que os algoritmos genéticos são, de fato, probabilísticos. Afinal, eles dependem de muitos parâmetros aleatórios em variadas etapas do seu processo, desde a definição da população inicial, até quais genes serão mutados e quais indivíduos serão cruzados.\n",
    "\n",
    "Entretanto, apesar dessa natureza probabilística, ao analisarmos as respostas que o algoritmo retorna ao ser rodado 40 vezes, percebemos que elas são muito próximas do resultado considerado \"correto\". Isso se deve ao critério de parada estabelecido, que determina que nenhuma resposta deve se desviar mais de 0.01 da resposta correta.\n"
   ]
  },
  {
   "cell_type": "markdown",
   "metadata": {},
   "source": [
    "## Referências consultadas\n",
    "\n"
   ]
  },
  {
   "cell_type": "markdown",
   "metadata": {},
   "source": [
    "1.  https://en.wikipedia.org/wiki/Himmelblau%27s_function\n",
    "\n",
    "2.  https://github.com/benetao/Redes_Neurais_Isabela_Beneti/blob/main/AlgoritmosGeneticos/experimento%20A.05%20-%20descobrindo%20a%20senha.ipynb\n",
    "\n",
    "3. https://github.com/benetao/Redes_Neurais_Isabela_Beneti/blob/main/AlgoritmosGeneticos/experimento%20A.03%20-%20algoritmo%20genetico.ipynb\n",
    "\n"
   ]
  },
  {
   "cell_type": "markdown",
   "metadata": {},
   "source": [
    "## Playground\n",
    "\n"
   ]
  }
 ],
 "metadata": {
  "kernelspec": {
   "display_name": "ilumpy",
   "language": "python",
   "name": "ilumpy"
  },
  "language_info": {
   "codemirror_mode": {
    "name": "ipython",
    "version": 3
   },
   "file_extension": ".py",
   "mimetype": "text/x-python",
   "name": "python",
   "nbconvert_exporter": "python",
   "pygments_lexer": "ipython3",
   "version": "3.9.7"
  },
  "org": null
 },
 "nbformat": 4,
 "nbformat_minor": 4
}
