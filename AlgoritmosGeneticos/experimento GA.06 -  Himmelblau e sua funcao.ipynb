{
 "cells": [
  {
   "cell_type": "markdown",
   "metadata": {},
   "source": [
    "Himmelblau e sua função\n",
    "========================================\n",
    "\n"
   ]
  },
  {
   "cell_type": "markdown",
   "metadata": {},
   "source": [
    "## Introdução\n",
    "\n"
   ]
  },
  {
   "cell_type": "markdown",
   "metadata": {},
   "source": [
    "Esse código encontra um valor de mínimo global para a função de Himmelblau. Como uma primeira análise, pode ser interessante analisar algebricamente essa função, da seguinte forma: $f(x,y)= (x² + y - 11)² + (x+ y²- 7)²$. Depois, vale levar em consideração a sua representação algébrica, que pode ser vista na imagem abaixo [1]"
   ]
  },
  {
   "cell_type": "markdown",
   "metadata": {},
   "source": [
    "<p align=\"center\"><img heigth= 440 width= 620 src=\"https://user-images.githubusercontent.com/106626661/230451517-f357e355-98ff-402d-9d81-8ab08d715950.png\"></p>"
   ]
  },
  {
   "cell_type": "markdown",
   "metadata": {},
   "source": [
    "No gráfico, podemos observar que a função possui quatro pontos mínimos, que estão localizados em (3, 2), (-2.805118, 3.131312), (-3.779310, -3.283186) e (3.584428, -1.848126) [2].\n",
    "Logo, espera-se que nosso algoritmo genético retorne coordenadas próximas de algum desses pontos"
   ]
  },
  {
   "cell_type": "markdown",
   "metadata": {},
   "source": [
    "\n",
    "\n"
   ]
  },
  {
   "cell_type": "markdown",
   "metadata": {},
   "source": [
    "## Objetivo\n",
    "\n"
   ]
  },
  {
   "cell_type": "markdown",
   "metadata": {},
   "source": [
    "Sabendo dos diferentes pontos que podem ser encontrados para essa função, o objetivo da presente atividade consiste em encontrar, com auxílio de algoritmos genéticos, o ponto **MÍNIMO GLOBAL** para a função"
   ]
  },
  {
   "cell_type": "markdown",
   "metadata": {
    "tags": []
   },
   "source": [
    "## Importações\n",
    "\n"
   ]
  },
  {
   "cell_type": "markdown",
   "metadata": {},
   "source": [
    "Todos os comandos de `import` devem estar dentro desta seção.\n",
    "\n"
   ]
  },
  {
   "cell_type": "code",
   "execution_count": 1,
   "metadata": {},
   "outputs": [],
   "source": [
    "# Bibliotecas necessárias para rodar as células abaixo!\n",
    "# Para  abusca aleatória:\n",
    "import random\n",
    "import matplotlib.pyplot as plt\n",
    "from funcoes import populacao_blau\n",
    "from funcoes import selecao_por_torneio_blau as funcao_selecao\n",
    "from funcoes import cruzamento_ponto_simples as funcao_cruzamento\n",
    "from funcoes import mutacao_blau\n",
    "from funcoes import funcao_objetivo_blau\n",
    "from funcoes import funcao_objetivo_pop_blau as funcao_objetivo_pop"
   ]
  },
  {
   "cell_type": "markdown",
   "metadata": {},
   "source": [
    "## Códigos e discussão\n",
    "\n"
   ]
  },
  {
   "cell_type": "markdown",
   "metadata": {},
   "source": [
    "Para resolver esse problema por meio de algoritmos genéticos, é necessário pensar o que eu devo considerar como: Gene, Indivíduo, Função objetivo, Seleção, Mutação, Cruzamento e Critério de Parada.\n",
    "\n",
    "Os `genes` serão valores de x e de y em um determinado intervalo de números. Logo, cada `ìndivíduo` é uma lista que contem apenas dois genes, cada um representando uma coordenada do ponto. O intervalo em que as coordenadas devem estar pode variar, mas, sabendo que os pontos mínimos de Himmelblau são (3, 2), (-2.805118, 3.131312), (-3.779310, -3.283186) e (3.584428, -1.848126) [1], é bom estabelecermos um domínio que não vá muito abaixo de -4 nem muito acima de 4, visto que nenhum mínimo será encontrado fora desses limites.\n",
    "\n",
    "O que buscamos, nesse problema, é o ponto de menor valor da função em um determinado intervalo. Logo, a `função objetivo` deve retornar a projeção de cada ponto (indivíduo) na função $f(x,y)= (x² + y - 11)² + (x+ y²- 7)²$. Por fim, como é uma função de minimização, utilizaremos a mesma `seleção` utilizada no experimento 0.6 das senhas, assim como as mesmas funções de `mutação` e de `cruzamento`.\n",
    "\n",
    "Por fim, o `critério de parada` pode ser simplesmente o número de gerações que estabelecemos como constante de busca, assim como estabelecemos em experimentos passados. No entanto, sabendo que o mínimo dessa função é 0, estabelecerei o critério como o \"erro\" máximo a ser aceito pelo código. Ou seja, se a resposta encontrada se aproximar o suficiente de 0, o código já poderá parar de rodar.\n"
   ]
  },
  {
   "cell_type": "code",
   "execution_count": 8,
   "metadata": {},
   "outputs": [],
   "source": [
    "# constantes de busca\n",
    "TAMANHO_POP = 15 \n",
    "CRITERIO_DE_PARADA= 0.001 \n",
    "CHANCE_MUTACAO = 0.02 # chance de ocorrer mutação em cada indivíduo durante cada geração\n",
    "LIMITE = []\n",
    "max_limite= 6\n",
    "min_limite= -6\n",
    "incremento= 0.001\n",
    "while min_limite <= max_limite:\n",
    "    # Adicionar o número à lista\n",
    "    LIMITE.append(min_limite)\n",
    "    # Incrementar o número pelo valor do incremento\n",
    "    min_limite += incremento\n",
    "    \n",
    "CHANCE_DE_COMPETIR_IND = 0.5 # chance que cada indivíduo tem de ser chamado para o torneio\n",
    "CHANCE_CRUZAMENTO = 0.5 # chance de ocorrer o cruzamento entre dois indivíduos\n",
    "CHANCE_MUTACAO = 0.02\n",
    "\n",
    "# constantes de problema\n",
    "NUM_GENES = 2 # número de genes ou tamanho da senha"
   ]
  },
  {
   "cell_type": "code",
   "execution_count": 3,
   "metadata": {},
   "outputs": [],
   "source": [
    "# Funções Locais\n",
    "\n",
    "def cria_populacao_inicial(tamanho, numero_genes):\n",
    "    return populacao_blau(tamanho, numero_genes, LIMITE)\n",
    "\n",
    "def funcao_mutacao(individuo):\n",
    "    return mutacao_blau(individuo, LIMITE)"
   ]
  },
  {
   "cell_type": "code",
   "execution_count": 4,
   "metadata": {},
   "outputs": [
    {
     "name": "stdout",
     "output_type": "stream",
     "text": [
      "População inicial: [[-5.931999999999977, -1.3299999999996266], [2.7360000000001476, 1.0380000000003347], [-0.6539999999996625, -1.152999999999646], [4.917000000000315, 2.324000000000193], [5.983000000000671, -0.4019999999996623], [-2.1229999999995393, -2.3219999999995173], [-2.3189999999995177, -1.597999999999597], [2.190000000000208, -5.312999999999771], [-2.307999999999519, 3.1460000000001025], [-2.360999999999513, -4.958999999999652], [-5.1329999999997105, -0.5869999999996625], [-2.6949999999994763, 3.5980000000000527], [3.5280000000000604, -1.4379999999996147], [3.5740000000000554, -4.7319999999995765], [0.6450000000003385, 3.53200000000006]]\n",
      "\n",
      "População final: [[3.561000000000057, -1.8379999999995706], [3.561000000000057, -1.8379999999995706], [3.5910000000000535, -1.8379999999995706], [3.561000000000057, -1.8379999999995706], [3.561000000000057, -1.8379999999995706], [3.561000000000057, -1.8379999999995706], [3.561000000000057, -1.8379999999995706], [3.561000000000057, -1.8379999999995706], [3.561000000000057, -1.8379999999995706], [3.561000000000057, -1.8379999999995706], [3.561000000000057, -1.8379999999995706], [3.561000000000057, -1.8379999999995706], [3.561000000000057, -1.8379999999995706], [3.561000000000057, -1.8379999999995706], [3.561000000000057, -1.8379999999995706]]\n",
      "\n",
      "Melhor candidato: [3.5910000000000535, -1.8379999999995706] , cujo valor, na função de Himmelblau, é de 0.004227044497186934\n"
     ]
    }
   ],
   "source": [
    "populacao = cria_populacao_inicial(TAMANHO_POP, NUM_GENES) # cria população inicial\n",
    "\n",
    "print(\"População inicial:\",populacao)\n",
    "    \n",
    "melhor_fitness = float(\"inf\") \n",
    "\n",
    "while melhor_fitness >= (CRITERIO_DE_PARADA): \n",
    "   \n",
    "    \n",
    "    populacao = funcao_selecao(populacao, CHANCE_DE_COMPETIR_IND) # Tem a função de sortear individuos na população e troca-los pelo melhor entre eles\n",
    "    \n",
    "    # daqui para baixo o código é praticamente igual ao algoritmo genético escrito do experimento A0.5 [2], que também é de minimização\n",
    "    \n",
    "    pais = populacao[0::2] \n",
    "    contador = 0 # esse contador resolve o nosso problema do índice dos pais e mães\n",
    "    maes = populacao[1::2]\n",
    "\n",
    "    for pai, mae in zip(pais, maes): # função zip une informações de duas listas\n",
    "        if random.random() < CHANCE_CRUZAMENTO:  # se o valor dado pela função random, for menor que a chance de cruzamento, não ocorre cruzamento!!\n",
    "            filho1, filho2= funcao_cruzamento(pai,mae)\n",
    "            filho1, filho2 = funcao_cruzamento(pai, mae)\n",
    "            populacao[contador] = filho1  # filho 1 vai substituir o pai na lista\n",
    "            populacao[contador + 1] = filho2 # filho 2 vai substituir a mãe na lista\n",
    "            \n",
    "        contador = contador + 2 # contador aumenta de 2 em 2\n",
    "    \n",
    "    for n in range(len(populacao)):\n",
    "        if random.random() <= CHANCE_MUTACAO: # se o valor dado pela função random for menor que a chance de mutação, não ocorre mutação!\n",
    "            individuo = populacao[n] # esxolhe o indivíduo\n",
    "            populacao[n] = funcao_mutacao(individuo) # muta o indivíduo\n",
    "            \n",
    "    # melhor individuo já visto até agora\n",
    "    fitness = funcao_objetivo_pop(populacao)  # o número de fitness representa quão boa é a resposta, e determina o \"weigth\" da seleção\n",
    "    menor_fitness = min(fitness) # armazena o melhor fitness, ou seja, a menor resposta vista até o momento\n",
    "    if menor_fitness < melhor_fitness: # código para reconhecer o mínimo, isto é, o melhor fitness visto até o momento\n",
    "        posicao = fitness.index(menor_fitness)\n",
    "        melhor_candidato = populacao[posicao]\n",
    "        melhor_fitness = menor_fitness\n",
    "        \n",
    "    \n",
    "print()\n",
    "print('População final:', populacao) # mostra qual a população final\n",
    "print()\n",
    "print('Melhor candidato:', melhor_candidato, ', cujo valor, na função de Himmelblau, é de', melhor_fitness) # mostra qual indivíduo se aproximou mais do mínimo"
   ]
  },
  {
   "cell_type": "markdown",
   "metadata": {},
   "source": [
    "Uau!!! Como podemos ver na resposta acima, o código gerou um ponto bem próximo de (3, 2), (-2.805118, 3.131312), (-3.779310, -3.283186) ou de (3.584428, -1.848126), que são justamente os mínimos de Himmelblau"
   ]
  },
  {
   "cell_type": "markdown",
   "metadata": {},
   "source": [
    "##\n",
    "### Analisando várias respostas do código"
   ]
  },
  {
   "cell_type": "markdown",
   "metadata": {},
   "source": [
    "Agora, é válido analisar como esse algoritmo genético se comporta quando rodado várias vezes, isto é, verificar quais mínimos esse código retorna."
   ]
  },
  {
   "cell_type": "code",
   "execution_count": 9,
   "metadata": {},
   "outputs": [],
   "source": [
    "coordenadas= []\n",
    "vezes_rodadas= 40 # Vamos rodar o código 40 vezes e ver como suas respostas se comportam, plotando-as num gráfico!\n",
    "for _ in range (vezes_rodadas):\n",
    "    populacao = cria_populacao_inicial(TAMANHO_POP, NUM_GENES) # cria população inicial\n",
    "    \n",
    "    melhor_fitness = float(\"inf\") \n",
    "\n",
    "    while melhor_fitness >= (CRITERIO_DE_PARADA):  \n",
    "   \n",
    "    \n",
    "        populacao = funcao_selecao(populacao, CHANCE_DE_COMPETIR_IND) # Tem a função de sortear individuos na população e troca-los pelo melhor entre eles\n",
    "    \n",
    "        # daqui para baixo o código é praticamente igual ao algoritmo genético escrito do experimento A0.5[2], que também é de minimização\n",
    "    \n",
    "        pais = populacao[0::2] \n",
    "        contador = 0 # esse contador resolve o nosso problema do índice dos pais e mães\n",
    "        maes = populacao[1::2]\n",
    "\n",
    "        for pai, mae in zip(pais, maes): # função zip une informações de duas listas\n",
    "            if random.random() < CHANCE_CRUZAMENTO:  # se o valor dado pela função random, for menor que a chance de cruzamento, não ocorre cruzamento!!\n",
    "                filho1, filho2= funcao_cruzamento(pai,mae)\n",
    "                filho1, filho2 = funcao_cruzamento(pai, mae)\n",
    "                populacao[contador] = filho1  # filho 1 vai substituir o pai na lista\n",
    "                populacao[contador + 1] = filho2 # filho 2 vai substituir a mãe na lista\n",
    "            \n",
    "            contador = contador + 2 # contador aumenta de 2 em 2\n",
    "    \n",
    "        for n in range(len(populacao)):\n",
    "            if random.random() <= CHANCE_MUTACAO: # se o valor dado pela função random for menor que a chance de mutação, não ocorre mutação!\n",
    "                individuo = populacao[n] # esxolhe o indivíduo\n",
    "                populacao[n] = funcao_mutacao(individuo) # muta o indivíduo\n",
    "            \n",
    "        # melhor individuo já visto até agora\n",
    "        fitness = funcao_objetivo_pop(populacao)  # o número de fitness representa quão boa é a resposta, e determina o \"weigth\" da seleção\n",
    "        menor_fitness = min(fitness) # armazena o melhor fitness, ou seja, a menor resposta vista até o momento\n",
    "        if menor_fitness < melhor_fitness: # código para reconhecer o mínimo, isto é, o melhor fitness visto até o momento\n",
    "            posicao = fitness.index(menor_fitness)\n",
    "            melhor_candidato = populacao[posicao]\n",
    "            melhor_fitness = menor_fitness\n",
    "    coordenadas.append(melhor_candidato) # todas as 40 respostas serão armazenadas nessa lista\n"
   ]
  },
  {
   "cell_type": "code",
   "execution_count": 15,
   "metadata": {},
   "outputs": [
    {
     "data": {
      "image/png": "[encoded data removed]",
      "text/plain": [
       "<Figure size 432x288 with 1 Axes>"
      ]
     },
     "metadata": {
      "needs_background": "light"
     },
     "output_type": "display_data"
    }
   ],
   "source": [
    "# tendo armazenado as respostas na lista \"coordenadas\", vamos plotá-las num gráfico\n",
    "x = [coord[0] for coord in coordenadas]\n",
    "y = [coord[1] for coord in coordenadas]\n",
    "plt.scatter(x, y)\n",
    "plt.xlim(-5, 5)\n",
    "plt.ylim(-5, 5)\n",
    "plt.title('Mínimos encontrados pelo algoritmo genético')\n",
    "plt.xlabel('Coordenada X')\n",
    "plt.ylabel('Coordenada Y')\n",
    "\n",
    "# Exibe o gráfico\n",
    "plt.show()"
   ]
  },
  {
   "cell_type": "markdown",
   "metadata": {},
   "source": [
    "Yay!!! Rodando o algoritmo genético 40 vezes, ele encontrou todas os 4 mínimos da função de Himmelblau, que coincidem, inclusive, com os mínimos do gráfico presente na Introdução do Notebook."
   ]
  },
  {
   "cell_type": "markdown",
   "metadata": {},
   "source": [
    "## Conclusão\n",
    "\n"
   ]
  },
  {
   "cell_type": "markdown",
   "metadata": {},
   "source": [
    "Rodando o código que retorna apenas uma resposta, percebe-se que, no intervalo estabelecido (-6 a 6, com passo de 0.01), essa resposta pode variar entre os quatro mínimos da função de Himmelblau. Essa variação ratifica a observação feita nas conclusões do experimento A 0.3 [3] de que os algoritmos genéticos são, de fato, probabilísticos. Afinal, eles dependem de muitos parâmetros aleatórios em variadas etapas do seu processo, desde a definição da população inicial, até quais genes serão mutados e quais indivíduos serão cruzados.\n",
    "\n",
    "Entretanto, apesar dessa natureza probabilística, ao analisarmos as respostas que o algoritmo retorna ao ser rodado 40 vezes, percebemos que elas são muito próximas do resultado considerado \"correto\". Isso se deve ao critério de parada estabelecido, que determina que nenhuma resposta deve se desviar mais de 0.01 da resposta correta.\n"
   ]
  },
  {
   "cell_type": "markdown",
   "metadata": {},
   "source": [
    "## Referências consultadas\n",
    "\n"
   ]
  },
  {
   "cell_type": "markdown",
   "metadata": {},
   "source": [
    "1.  https://en.wikipedia.org/wiki/Himmelblau%27s_function\n",
    "\n",
    "2.  https://github.com/benetao/Redes_Neurais_Isabela_Beneti/blob/main/AlgoritmosGeneticos/experimento%20A.05%20-%20descobrindo%20a%20senha.ipynb\n",
    "\n",
    "3. https://github.com/benetao/Redes_Neurais_Isabela_Beneti/blob/main/AlgoritmosGeneticos/experimento%20A.03%20-%20algoritmo%20genetico.ipynb\n",
    "\n"
   ]
  },
  {
   "cell_type": "markdown",
   "metadata": {},
   "source": [
    "## Playground\n",
    "\n"
   ]
  }
 ],
 "metadata": {
  "kernelspec": {
   "display_name": "ilumpy",
   "language": "python",
   "name": "ilumpy"
  },
  "language_info": {
   "codemirror_mode": {
    "name": "ipython",
    "version": 3
   },
   "file_extension": ".py",
   "mimetype": "text/x-python",
   "name": "python",
   "nbconvert_exporter": "python",
   "pygments_lexer": "ipython3",
   "version": "3.9.7"
  },
  "org": null
 },
 "nbformat": 4,
 "nbformat_minor": 4
}
