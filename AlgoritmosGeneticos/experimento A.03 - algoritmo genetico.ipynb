{
 "cells": [
  {
   "cell_type": "markdown",
   "metadata": {},
   "source": [
    "Algoritmo genético\n",
    "==================\n",
    "\n"
   ]
  },
  {
   "cell_type": "markdown",
   "metadata": {},
   "source": [
    "## Introdução\n",
    "\n"
   ]
  },
  {
   "cell_type": "markdown",
   "metadata": {},
   "source": [
    "`Algoritmos genéticos` são algoritmos inspirados na teoria da evolução de Darwin e são ferramentas poderosas para resolver problemas de otimização. De maneira simples, a estratégia consiste em gerar uma população inicial aleatória e através de seleção, cruzamento e mutação sucessivas, gerar populações seguintes. Se feito de maneira correta, as populações seguintes tendem a ser melhores candidatos para a solução do problema do que as populações anteriores.\n",
    "\n",
    "Um algoritmo genético pode parecer um tanto complexo, porém é possível dividi-lo em partes relativamente simples:\n",
    "\n",
    "1.  Criação da população inicial (aleatória)\n",
    "\n",
    "2.  Cálculo da função objetivo para todos os membros da população inicial e atualização do hall da fama\n",
    "\n",
    "3.  Seleção dos indivíduos (quais seguem pra próxima geração)\n",
    "\n",
    "4.  Cruzamento dos indivíduos selecionados (troca de material genético)\n",
    "\n",
    "5.  Mutação dos indivíduos da população recém-criada (possibilidade de trazer informação nova ao sistema)\n",
    "\n",
    "6.  Cálculo da função objetivo para todos os membros da população recém-criada e atualização do hall da fama\n",
    "\n",
    "7.  Checar os critérios de parada. Caso os critérios não tenham sido atendidos, retornar ao passo 3\n",
    "\n",
    "8.  Retornar para o usuário o hall da fama\n",
    "\n"
   ]
  },
  {
   "cell_type": "markdown",
   "metadata": {},
   "source": [
    "## Glossário\n",
    "\n"
   ]
  },
  {
   "cell_type": "markdown",
   "metadata": {},
   "source": [
    "-   `Indivíduo`: um candidato para a solução do problema\n",
    "\n",
    "-   `População`: um conjunto de candidatos para a solução do problema\n",
    "\n",
    "-   `Gene`: um parâmetro que pertence a um indivíduo\n",
    "\n",
    "-   `Cromossomo` ou `genótipo`: um conjunto de genes\n",
    "\n",
    "-   `Geração`: cada população em uma busca genética faz parte de uma geração. A primeira geração é geralmente formada por indivíduos aleatórios (sorteados dentro do espaço de busca). As gerações seguintes são formadas por seleção, cruzamento e mutação da geração anterior. Um dos critérios de parada possíveis para um algoritmo genético é o número máximo de gerações\n",
    "\n",
    "-   `Função de aptidão` ou `função objetivo` ou `função fitness`: uma função que recebe um indivíduo e retorna o seu valor de aptidão. Em um problema de otimização, nós buscamos encontrar soluções que minimizam ou maximizam o valor de aptidão\n",
    "\n",
    "-   `Seleção`: processo onde utilizamos o valor de aptidão dos indivíduos para selecionar quais irão passar seus genes para a geração seguinte\n",
    "\n",
    "-   `Cruzamento`: processo onde o material genético de indivíduos selecionados é misturado\n",
    "\n",
    "-   `Mutação`: processo onde os genes dos indivíduos selecionados têm uma chance de alterar seu valor. A mutação é o único processo capaz de introduzir informação nova ao pool genético após o sorteio aleatório da primeira geração\n",
    "\n",
    "-   `Hall da fama`: conjunto dos $n$ indivíduos que obtiveram os melhores valores de aptidão durante o processo de busca\n",
    "\n"
   ]
  },
  {
   "cell_type": "markdown",
   "metadata": {},
   "source": [
    "## Reflexões\n",
    "\n"
   ]
  },
  {
   "cell_type": "markdown",
   "metadata": {},
   "source": [
    "Você diria que o algoritmo genético é determinístico ou probabilístico?\n",
    "\n",
    "Será que um algoritmo genético é capaz de encontrar mínimos (ou máximos) da função objetivo?\n",
    "\n",
    "O que será que acontece quando não realizamos a etapa de mutação do algoritmo genético?\n",
    "\n",
    "O que será que acontece quando usamos uma chance de mutação muito alta?\n",
    "\n"
   ]
  },
  {
   "cell_type": "markdown",
   "metadata": {},
   "source": [
    "## Objetivo\n",
    "\n"
   ]
  },
  {
   "cell_type": "markdown",
   "metadata": {},
   "source": [
    "Encontrar uma solução para o problema das caixas binárias usando o algoritmo genético. Considere 4 caixas.\n",
    "\n"
   ]
  },
  {
   "cell_type": "markdown",
   "metadata": {},
   "source": [
    "## Descrição do problema\n",
    "\n"
   ]
  },
  {
   "cell_type": "markdown",
   "metadata": {},
   "source": [
    "O problema das caixas binárias é simples: nós temos um certo número de caixas e cada uma pode conter um valor do conjunto $\\{0, 1\\}$. O objetivo é encontrar uma combinação de caixas onde a soma dos valores contidos dentro delas é máximo.\n",
    "\n"
   ]
  },
  {
   "cell_type": "markdown",
   "metadata": {},
   "source": [
    "## Importações\n",
    "\n"
   ]
  },
  {
   "cell_type": "code",
   "execution_count": 1,
   "metadata": {},
   "outputs": [],
   "source": [
    "import random\n",
    "from funcoes import populacao_cb as cria_populacao_inicial\n",
    "from funcoes import funcao_objetivo_pop_cb as funcao_objetivo_pop\n",
    "from funcoes import selecao_roleta_max as funcao_selecao\n",
    "from funcoes import cruzamento_ponto_simples as funcao_cruzamento\n",
    "from funcoes import mutacao_cb as funcao_mutacao"
   ]
  },
  {
   "cell_type": "markdown",
   "metadata": {},
   "source": [
    "## Códigos e discussão\n",
    "\n"
   ]
  },
  {
   "cell_type": "code",
   "execution_count": 2,
   "metadata": {},
   "outputs": [],
   "source": [
    "### CONSTANTES\n",
    "\n",
    "# Constantes de busca: mudar se quiser melhorar a eficácia do algoritmo\n",
    "TAMANHO_POP = 5 # define quantidade de indivíduos analisados\n",
    "NUM_GERACOES = 200 # estabelece número de gerações\n",
    "CHANCE_CRUZAMENTO = 0.5 # estabelece a probabilidade de ocorrer cruzamento entre indivíduos\n",
    "CHANCE_MUTACAO = 0.05 # define a probabilidade de ocorrer mutação com um indivíduo\n",
    "\n",
    "# Constantes de problema: mudar se quiser alterar o problema que está sendo resolvido\n",
    "NUM_GENES = 4 # quantidade de genes (números de item na lista) de cada indivíduo\n"
   ]
  },
  {
   "cell_type": "code",
   "execution_count": 3,
   "metadata": {},
   "outputs": [
    {
     "name": "stdout",
     "output_type": "stream",
     "text": [
      "população inicial: [[1, 1, 1, 0], [0, 0, 1, 0], [1, 1, 1, 0], [0, 0, 0, 1], [0, 0, 0, 1]]\n",
      "\n",
      "População final: [[1, 1, 1, 0], [0, 1, 1, 0], [1, 1, 1, 0], [0, 1, 1, 0], [0, 1, 1, 0]]\n"
     ]
    }
   ],
   "source": [
    "populacao= cria_populacao_inicial(TAMANHO_POP, NUM_GENES)\n",
    "\n",
    "# Estratégia: converter string em vetores ecalcular a distância L1 entre os vetores\n",
    "\n",
    "print(\"população inicial:\",populacao) # printando a população inicial para ter uma noção de como o algorítimo genético atuou\n",
    "\n",
    "for n in range(NUM_GERACOES):\n",
    "    \n",
    "    fitness= funcao_objetivo_pop(populacao) # o número de fitness representa quão boa é a resposta, e determina o \"weigth\" da seleção\n",
    "    populacao= funcao_selecao(populacao, fitness)\n",
    "    pais= populacao[0::2] \n",
    "    contador= 0 # esse contador resolve o nosso problema do índice dos pais e mães\n",
    "    maes= populacao[1::2]\n",
    "    for pai, mae in zip(pais, maes): # função zip une informações de duas listas\n",
    "        if random.random() < CHANCE_CRUZAMENTO: # se o valor dado, entre 0 e 1, pela função random, for menor que a chance de cruzamento (0.5), não ocorre cruzamento!!\n",
    "            filho1, filho2= funcao_cruzamento(pai,mae)\n",
    "            populacao[contador]= filho1 # filho 1 vai substituir o pai na lista\n",
    "            populacao[contador+1]= filho2 # filho 2 vai substituir a mãe na lista\n",
    "        contador= contador+2 # contador aumenta de 2 em 2\n",
    "            \n",
    "    for n in range(len(populacao)):\n",
    "        if random.random() <= CHANCE_MUTACAO: # se o valor dado, entre 0 e 1, pela função random, for menor que a chance de mutação (0.05), não ocorre mutação!\n",
    "            individuo= populacao[n]\n",
    "            populacao[n]= funcao_mutacao(individuo)\n",
    "        \n",
    "print()\n",
    "print(\"População final:\", populacao) # printando o resultado do algorítmo genético "
   ]
  },
  {
   "cell_type": "markdown",
   "metadata": {},
   "source": [
    "## Conclusão\n",
    "\n"
   ]
  },
  {
   "cell_type": "markdown",
   "metadata": {},
   "source": [
    "Nesse experimento, desenvolvemos o nosso primeiro **algorítmo genético**, com o intuito de resolver o nosso problema das **caixas binárias**, seguindo o mesmo modelo de problema dos outros experimentos.\n",
    "\n",
    "Para tanto, criamos uma estutura básica de um algoritmo genético, que inclui as etapas de `Seleção`, `Cruzamento` e `Mutação`. O problema das caixas binárias, especificamente, é um problema de **maximização**, pois nele nós procuramos o maior valor possível da função objetivo. \n",
    "\n",
    "Rodando o código que desenvolvemos várias vezes, podemos concluir que o método de algorítimos genéticos é **probabilístico**, visto que retorna diferentes respostas quando rodamos mais de uma vez. Afinal, algoritmos genéticos dependem de fatores aleatórios, incluindo constantes como a chance de mutação e de cruzamento, que, inclusive, podem determinar quão boa será a sua resposta.\n",
    "\n",
    "Outro ponto importante a se destacar é o papel das chamadas \"constantes de busca\", que se encontram definidas ainda nas primeiras células. A chance de mutação, por exemplo, defini qual a probabilidade de um indivíduo ser escolhido, aleatoriamente, para ser mutado. Quando não realizamos a etapa da mutação, ou colocamos a chance como \"0\", impedimos a \"variabilidade genética\" do código, o que limita a sua capacidade de obter boas respostas.\n",
    "\n",
    "Por outro lado, quando estabelecemos uma chance de mutação muito alta, perdemos o trabalho e a informação que o cruzamento e a seleção fazem. Por conseguinte, quando temos uma chance de mutação muito alta, normalmente não temos resultados muito bons.\n",
    "\n",
    "Uma ideia interessante que pensei durante a aula foi criar uma chance de mutação que se referisse não a cada indivíduo, mas a cada gene do indivíduo. Dessa forma, cada indivíduo poderia sofrer mutação mais de uma vez, e, talvez assim, o código se tornaria mais eficiente."
   ]
  },
  {
   "cell_type": "markdown",
   "metadata": {},
   "source": [
    "## Playground\n",
    "\n"
   ]
  },
  {
   "cell_type": "code",
   "execution_count": null,
   "metadata": {},
   "outputs": [],
   "source": []
  }
 ],
 "metadata": {
  "kernelspec": {
   "display_name": "ilumpy",
   "language": "python",
   "name": "ilumpy"
  },
  "language_info": {
   "codemirror_mode": {
    "name": "ipython",
    "version": 3
   },
   "file_extension": ".py",
   "mimetype": "text/x-python",
   "name": "python",
   "nbconvert_exporter": "python",
   "pygments_lexer": "ipython3",
   "version": "3.9.7"
  },
  "org": null
 },
 "nbformat": 4,
 "nbformat_minor": 4
}
