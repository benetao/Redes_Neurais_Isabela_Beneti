{
 "cells": [
  {
   "cell_type": "markdown",
   "metadata": {},
   "source": [
    "Caixeiro com Gasolina Infinita\n",
    "========================================\n",
    "\n"
   ]
  },
  {
   "cell_type": "markdown",
   "metadata": {},
   "source": [
    "## Introdução\n",
    "\n"
   ]
  },
  {
   "cell_type": "markdown",
   "metadata": {},
   "source": [
    " Considere um número $n\\geq 7$ de coordenadas $(x,y)$ de cidades e que o caixeiro tenha combustível infinito. Você pode gerar as coordenadas de forma aleatória ou simplesmente usar as coordenadas que desejar. O caixeiro só anda em linha reta e apenas entre duas cidades. O caixeiro começa e termina seu trajeto na mesma cidade e, fora a cidade inicial, ele não visita nenhuma outra cidade mais de uma vez."
   ]
  },
  {
   "cell_type": "markdown",
   "metadata": {},
   "source": [
    "\n",
    "\n"
   ]
  },
  {
   "cell_type": "markdown",
   "metadata": {},
   "source": [
    "## Objetivo\n",
    "\n"
   ]
  },
  {
   "cell_type": "markdown",
   "metadata": {},
   "source": [
    "Encontre o caminho de *maior* distância no problema do caixeiro viajante e mostre ele de forma gráfica."
   ]
  },
  {
   "cell_type": "markdown",
   "metadata": {
    "tags": []
   },
   "source": [
    "## Importações\n",
    "\n"
   ]
  },
  {
   "cell_type": "markdown",
   "metadata": {},
   "source": [
    "Todos os comandos de `import` devem estar dentro desta seção.\n",
    "\n"
   ]
  },
  {
   "cell_type": "code",
   "execution_count": 1,
   "metadata": {},
   "outputs": [],
   "source": [
    "import random\n",
    "from itertools import permutations\n",
    "\n",
    "from funcoes import cria_cidades\n",
    "import imageio\n",
    "import matplotlib.pyplot as plt\n",
    "\n",
    "from funcoes import populacao_inicial_cv as cria_populacao_inicial\n",
    "from funcoes import funcao_objetivo_pop_cv\n",
    "from funcoes import funcao_objetivo_cv\n",
    "from funcoes import selecao_roleta_max as funcao_selecao # esse já temos!\n",
    "from funcoes import cruzamento_ordenado as funcao_cruzamento\n",
    "from funcoes import mutacao_de_troca as funcao_mutacao\n",
    "from funcoes import criar_pontos_intermediarios_x, criar_pontos_intermediarios_y, caminhoo_x, caminhoo_y"
   ]
  },
  {
   "cell_type": "markdown",
   "metadata": {},
   "source": [
    "## Códigos e discussão\n",
    "\n"
   ]
  },
  {
   "cell_type": "code",
   "execution_count": 2,
   "metadata": {},
   "outputs": [
    {
     "data": {
      "text/plain": [
       "{'Cidade 1': (0.205681864787861, 0.7934194481063157),\n",
       " 'Cidade 2': (0.9964358025910218, 0.38907655626760584),\n",
       " 'Cidade 3': (0.5426110101706147, 0.18219822042516698),\n",
       " 'Cidade 4': (0.5241494277563445, 0.9737365094645976),\n",
       " 'Cidade 5': (0.2427305087992998, 0.40645416273934176)}"
      ]
     },
     "execution_count": 2,
     "metadata": {},
     "output_type": "execute_result"
    }
   ],
   "source": [
    "### CONSTANTES\n",
    "\n",
    "# relacionadas à busca\n",
    "TAMANHO_POP = 50\n",
    "CHANCE_CRUZAMENTO = 0.5\n",
    "CHANCE_MUTACAO = 0.05\n",
    "NUM_COMBATENTES_NO_TORNEIO = 3\n",
    "NUM_GERACOES= 1000\n",
    "\n",
    "# relacionadas ao problema a ser resolvido\n",
    "NUMERO_DE_CIDADES= 5\n",
    "CIDADES= cria_cidades(NUMERO_DE_CIDADES)\n",
    "CIDADES"
   ]
  },
  {
   "cell_type": "code",
   "execution_count": 3,
   "metadata": {},
   "outputs": [],
   "source": [
    "# Funções locais\n",
    "\n",
    "def funcao_objetivo_pop(populacao):\n",
    "    return funcao_objetivo_pop_cv(populacao, CIDADES)\n",
    "\n",
    "def funcao_objetivo_individuo(individuo):\n",
    "    return funcao_objetivo_cv(individuo, CIDADES)"
   ]
  },
  {
   "cell_type": "code",
   "execution_count": 4,
   "metadata": {},
   "outputs": [],
   "source": [
    "# Busca por algoritmo genético\n",
    "\n",
    "populacao = cria_populacao_inicial(TAMANHO_POP, CIDADES)\n",
    "\n",
    "melhor_fitness_ja_visto = -float(\"inf\")  # é assim que escrevemos menos infinito em python\n",
    "\n",
    "for n in range(NUM_GERACOES):\n",
    "    \n",
    "    # Seleção\n",
    "    fitness = funcao_objetivo_pop(populacao)\n",
    "    populacao = funcao_selecao(populacao, fitness)\n",
    "    \n",
    "    # Cruzamento\n",
    "    pais = populacao[0::2]\n",
    "    maes = populacao[1::2]\n",
    "    \n",
    "    contador = 0\n",
    "    \n",
    "    for pai, mae in zip(pais, maes):\n",
    "        if random.random() <= CHANCE_CRUZAMENTO:\n",
    "            filho1, filho2 = funcao_cruzamento(pai, mae)\n",
    "            populacao[contador] = filho1\n",
    "            populacao[contador + 1] = filho2\n",
    "        \n",
    "        contador = contador + 2   \n",
    "        \n",
    "    # Mutação\n",
    "    for n in range(len(populacao)):\n",
    "        if random.random() <= CHANCE_MUTACAO:\n",
    "            individuo = populacao[n]\n",
    "            populacao[n] = funcao_mutacao(individuo)            \n",
    "            \n",
    "    # melhor individuo já visto até agora\n",
    "    fitness = funcao_objetivo_pop(populacao)\n",
    "    maior_fitness = min(fitness)\n",
    "    if maior_fitness > melhor_fitness_ja_visto:        \n",
    "        posicao = fitness.index(maior_fitness)\n",
    "        melhor_individuo_ja_visto = populacao[posicao]\n",
    "        melhor_fitness_ja_visto = maior_fitness    "
   ]
  },
  {
   "cell_type": "code",
   "execution_count": 5,
   "metadata": {},
   "outputs": [],
   "source": [
    "# Busca testando todas as permutações\n",
    "\n",
    "melhor_fitness_ever = -float(\"inf\")\n",
    "\n",
    "# testando todas as permutações possíveis\n",
    "for caminho in permutations(list(CIDADES.keys())):\n",
    "    distancia = funcao_objetivo_individuo(caminho)\n",
    "    if distancia > melhor_fitness_ever:\n",
    "        melhor_fitness_ever = distancia\n",
    "        melhor_resposta_ever = caminho"
   ]
  },
  {
   "cell_type": "code",
   "execution_count": 6,
   "metadata": {},
   "outputs": [
    {
     "name": "stdout",
     "output_type": "stream",
     "text": [
      "\n",
      "Melhor individuo obtido por algoritmos genéticos:\n",
      "['Cidade 5', 'Cidade 1', 'Cidade 4', 'Cidade 3', 'Cidade 2'] com distância: 2.799120422039112\n",
      "\n",
      "Melhor individuo obtido por busca exaustiva:\n",
      "('Cidade 1', 'Cidade 2', 'Cidade 5', 'Cidade 4', 'Cidade 3') com distância: 3.7649796151541683\n"
     ]
    }
   ],
   "source": [
    "# Checando os resultados\n",
    "\n",
    "print()\n",
    "print(\"Melhor individuo obtido por algoritmos genéticos:\")\n",
    "print(melhor_individuo_ja_visto, \"com distância:\", melhor_fitness_ja_visto)\n",
    "\n",
    "print()\n",
    "print(\"Melhor individuo obtido por busca exaustiva:\")\n",
    "print(melhor_resposta_ever, \"com distância:\", melhor_fitness_ever)"
   ]
  },
  {
   "cell_type": "markdown",
   "metadata": {},
   "source": [
    "##\n",
    "### Plotando grafo do caixeiro viajante"
   ]
  },
  {
   "cell_type": "code",
   "execution_count": 7,
   "metadata": {},
   "outputs": [
    {
     "name": "stdout",
     "output_type": "stream",
     "text": [
      "[(0.205681864787861, 0.7934194481063157), (0.9964358025910218, 0.38907655626760584), (0.2427305087992998, 0.40645416273934176), (0.5241494277563445, 0.9737365094645976), (0.5426110101706147, 0.18219822042516698)]\n"
     ]
    }
   ],
   "source": [
    "# pegando as coordenadas dos pontos da resposta dada pelo algoritmo genético\n",
    "grafo= []\n",
    "for i in melhor_resposta_ever:\n",
    "    grafo.append(CIDADES[str(i)])\n",
    "print(grafo)"
   ]
  },
  {
   "cell_type": "code",
   "execution_count": 8,
   "metadata": {},
   "outputs": [
    {
     "data": {
      "image/png": "[encoded data removed]",
      "text/plain": [
       "<Figure size 432x288 with 1 Axes>"
      ]
     },
     "metadata": {
      "needs_background": "light"
     },
     "output_type": "display_data"
    }
   ],
   "source": [
    "# plotando o grafooo\n",
    "import matplotlib.pyplot as plt\n",
    "\n",
    "# Lista de listas com as coordenadas dos pontos\n",
    "lista_pontos = grafo\n",
    "\n",
    "# Extrai as coordenadas x e y dos pontos\n",
    "x = [ponto[0] for ponto in lista_pontos]\n",
    "y = [ponto[1] for ponto in lista_pontos]\n",
    "for i, nome in enumerate(melhor_resposta_ever):\n",
    "    plt.annotate(nome, (x[i], y[i]), textcoords=\"offset points\", xytext=(5,-10), ha='center')\n",
    "\n",
    "# Plota os pontos\n",
    "plt.scatter(x, y)\n",
    "\n",
    "# Liga os pontos com segmentos de reta\n",
    "for i in range(len(lista_pontos)-1):\n",
    "    plt.plot([lista_pontos[i][0], lista_pontos[i+1][0]],\n",
    "             [lista_pontos[i][1], lista_pontos[i+1][1]], 'b-')\n",
    "\n",
    "# Define os rótulos dos eixos\n",
    "plt.xlabel('Coordenada X')\n",
    "plt.ylabel('Coordenada Y')\n",
    "plt.title('Caminho do caixeiro')\n",
    "# Exibe o gráfico\n",
    "plt.show()"
   ]
  },
  {
   "cell_type": "markdown",
   "metadata": {},
   "source": [
    "### Fazendo o gif do caminho do caixeiro viajante"
   ]
  },
  {
   "cell_type": "code",
   "execution_count": 13,
   "metadata": {},
   "outputs": [],
   "source": [
    "## Essa função depende da lista \"melhor_resposta_ever\", por isso não pode estar no arquivo \"funcoes\"\n",
    "def create_frame(t, xx, yy):    \n",
    "    \"\"\" Função cria cada frame do gif\n",
    "    Args:\n",
    "    t= numero do frame\n",
    "    xx= lista de coordenadas x do ponto\n",
    "    yy= lista de coordenadas y do ponto\n",
    "    \n",
    "    Retorna:\n",
    "    Gráfico que servirá como frame para o gif\"\"\"\n",
    "    plt.xlim(0, 1) \n",
    "    plt.ylim(0, 1)\n",
    "    # Plota os pontos\n",
    "    for i, nome in enumerate(melhor_resposta_ever):\n",
    "        plt.annotate(nome, (x[i], y[i]), textcoords=\"offset points\", xytext=(5,-10), ha='center')\n",
    "    plt.scatter(x, y)\n",
    "    plt.title(\"Gif do caminho do caixeiro\")\n",
    "    plt.plot(xx[:(t+1)], yy[:(t+1)], color = 'grey' )\n",
    "    plt.plot(xx[t], yy[t], color = 'black', marker = 'o' )\n",
    "    plt.savefig(f'./Figuras/img_{t}.png', \n",
    "                transparent = False,  \n",
    "                facecolor = 'white'\n",
    "               )\n",
    "    plt.close()"
   ]
  },
  {
   "cell_type": "code",
   "execution_count": 14,
   "metadata": {},
   "outputs": [],
   "source": [
    "for t in range(len(caminhoo_x(x,y))):\n",
    "    create_frame(t,caminhoo_x(x,y), caminhoo_y(x,y))"
   ]
  },
  {
   "cell_type": "code",
   "execution_count": 15,
   "metadata": {},
   "outputs": [],
   "source": [
    "import imageio\n",
    "frames = []\n",
    "for t in range(len(caminhoo_x(x,y))):\n",
    "    image = imageio.imread(f'./Figuras/img_{t}.png')\n",
    "    frames.append(image)"
   ]
  },
  {
   "cell_type": "code",
   "execution_count": 16,
   "metadata": {},
   "outputs": [],
   "source": [
    "# Criamos e salvando o gif!!!\n",
    "imageio.mimsave('./Figuras/Gif_do_caixeiro.gif', # output gif\n",
    "                frames,          # array of input frames\n",
    "                fps = 20)         # optional: frames per second"
   ]
  },
  {
   "cell_type": "markdown",
   "metadata": {},
   "source": [
    "<center>\n",
    "  <img src='./Figuras/Gif_do_caixeiro.gif' style=\"width:500px;height:400px\"/>\n",
    "</center>  "
   ]
  },
  {
   "cell_type": "markdown",
   "metadata": {},
   "source": [
    "## Conclusão\n",
    "\n"
   ]
  },
  {
   "cell_type": "markdown",
   "metadata": {},
   "source": [
    "Realizando esse experimento, foi possível perceber que a única coisa que difere esse problema do problema do caixeiro viajante \"tradicional\" é a função seleção! Afinal, no experimento A.06 do caixeiro viajante [1], nós lidamos com um problema de minimização, ou seja, procurávamos o MENOR caminho para o caixeiro percorrer. Para resolvê-lo, utilizamos a função de seleção \"elecao_torneio_min\".\n",
    "\n",
    "Já no presente experimento, lidamos com um problema de maximização, isto é, procuramos o MAIOR caminho para o caixeiro percorrer. Logo, para resolvê-lo, foi necessário mudar a função seleção. Dessa vez, utilizamos a função de seleção \"selecao_roleta_max\". Além disso, fiz algumas modificações, como trocar o melhor_fitness_ja_visto inicial de float(inf) para -float(inf), e tranformar o código que achava o menor fitness em um código que acha o maior fitness, mudando, por exemplo, os nomes das variáveis (o que antes era \"menor_fitness\" agora é \"maior_fitness\" e trocar sinais de < por >).\n"
   ]
  },
  {
   "cell_type": "markdown",
   "metadata": {},
   "source": [
    "## Referências consultadas\n",
    "\n"
   ]
  },
  {
   "cell_type": "markdown",
   "metadata": {},
   "source": [
    "1.  https://github.com/benetao/Redes_Neurais_Isabela_Beneti/blob/main/AlgoritmosGeneticos/experimento%20A.06%20-%20o%20caixeiro%20viajante.ipynb\n",
    "\n",
    "\n"
   ]
  },
  {
   "cell_type": "markdown",
   "metadata": {},
   "source": [
    "## Playground\n",
    "\n"
   ]
  },
  {
   "cell_type": "code",
   "execution_count": null,
   "metadata": {},
   "outputs": [],
   "source": []
  }
 ],
 "metadata": {
  "kernelspec": {
   "display_name": "ilumpy",
   "language": "python",
   "name": "ilumpy"
  },
  "language_info": {
   "codemirror_mode": {
    "name": "ipython",
    "version": 3
   },
   "file_extension": ".py",
   "mimetype": "text/x-python",
   "name": "python",
   "nbconvert_exporter": "python",
   "pygments_lexer": "ipython3",
   "version": "3.9.7"
  },
  "org": null
 },
 "nbformat": 4,
 "nbformat_minor": 4
}
