{
 "cells": [
  {
   "cell_type": "markdown",
   "metadata": {},
   "source": [
    "Busca aleatória\n",
    "===============\n",
    "\n"
   ]
  },
  {
   "cell_type": "markdown",
   "metadata": {},
   "source": [
    "## Introdução\n",
    "\n"
   ]
  },
  {
   "cell_type": "markdown",
   "metadata": {},
   "source": [
    "Uma forma simples de se encontrar uma solução para um `problema de otimização` é realizando uma `busca aleatória`. A busca aleatória, como o próprio nome sugere, é um algoritmo onde um certo `espaço de busca` é definido de onde sorteamos `candidatos` de soluções para o problema.\n",
    "\n",
    "Diferentemente de outros algoritmos de otimização, a busca aleatória não requer que a `função objetivo` seja diferenciável nem contínua.\n",
    "\n",
    "Um algoritmo de busca aleatória segue os seguintes passos:\n",
    "\n",
    "1.  Um espaço de busca é definido\n",
    "\n",
    "2.  Um candidato $x$ dentro do espaço de busca é sorteado aleatoriamente\n",
    "\n",
    "3.  Calculamos o resultado da função objetivo para o candidato $x$\n",
    "\n",
    "4.  Se o critério de parada for atingido, encerrar o algoritmo e retornar ao usuário o candidato que teve melhor resultado durante a busca. Do contrário, retorne ao passo 2\n",
    "\n"
   ]
  },
  {
   "cell_type": "markdown",
   "metadata": {},
   "source": [
    "## Reflexões\n",
    "\n"
   ]
  },
  {
   "cell_type": "markdown",
   "metadata": {},
   "source": [
    "Você diria que o algoritmo de busca aleatória é determinístico ou probabilístico?\n",
    "\n",
    "Em quais problemas de otimização você acredita que este algoritmo seja uma boa escolha?\n",
    "\n",
    "Em quais problemas de otimização você acredita que este algoritmo seja uma má escolha?\n",
    "\n"
   ]
  },
  {
   "cell_type": "markdown",
   "metadata": {},
   "source": [
    "## Objetivo\n",
    "\n"
   ]
  },
  {
   "cell_type": "markdown",
   "metadata": {},
   "source": [
    "Encontrar uma solução para o problema das caixas binárias usando o algoritmo de busca aleatória. Considere 4 caixas.\n",
    "\n"
   ]
  },
  {
   "cell_type": "markdown",
   "metadata": {},
   "source": [
    "## Descrição do problema\n",
    "\n"
   ]
  },
  {
   "cell_type": "markdown",
   "metadata": {},
   "source": [
    "O problema das caixas binárias é simples: nós temos um certo número de caixas e cada uma pode conter um valor do conjunto $\\{0, 1\\}$. O objetivo é encontrar uma combinação de caixas onde a soma dos valores contidos dentro delas é máximo.\n",
    "\n",
    "Como todo problema computacional, um dos desafios é &ldquo;traduzir&rdquo; o problema dado em estruturas computacionais.\n",
    "\n"
   ]
  },
  {
   "cell_type": "markdown",
   "metadata": {},
   "source": [
    "## Importações\n",
    "\n"
   ]
  },
  {
   "cell_type": "code",
   "execution_count": 43,
   "metadata": {},
   "outputs": [],
   "source": [
    "# Bibliotecas necessárias para rodar as células abaixo!\n",
    "import random # módulo para sortear valor dos genes\n",
    "\n"
   ]
  },
  {
   "cell_type": "markdown",
   "metadata": {},
   "source": [
    "## Códigos e discussão\n",
    "\n"
   ]
  },
  {
   "cell_type": "code",
   "execution_count": 44,
   "metadata": {},
   "outputs": [],
   "source": [
    "# Resolução do problema proposto\n",
    "# Escolhermos usar uma LISTA para representar o indivíduo\n",
    "# Quantidade de elementos na lista é o número de genes do indivíduo\n",
    "# Genes podem receber valores de 0 ou 1, gerados aleatoriamente\n",
    "\n",
    "def gene_cb(): \n",
    "    \"\"\" Função que gera um gene válido (0 ou 1) para o problema das caixas binárias \n",
    "    \n",
    "    Retorna valor 0 ou 1\"\"\"\n",
    "    lista= [0,1]\n",
    "    gene= random.choice(lista)\n",
    "    return gene\n",
    "\n",
    "def individuo_cb(n):\n",
    "    \"\"\" Função que gera um indivíduo válido para o problema das caixas binárias\n",
    "    \n",
    "    Argumentos: n= número de genes do indivíduo\n",
    "    \n",
    "    Retorna lista com n genes. Cada gene é um valor de 0 ou 1\"\"\"\n",
    "    \n",
    "    individuo=[]\n",
    "    for i in range(n):\n",
    "        gene= gene_cb()\n",
    "        individuo.append(gene)\n",
    "    return individuo\n",
    "\n",
    "def funcao_objetivo_cb(individuo):\n",
    "    \"\"\" Computa a fução objetiva no problema das caixas binárias\n",
    "    \n",
    "    Argumentos: lista contendo genes das caixas binárias\n",
    "    \n",
    "    Retorna o valor da soma dos genes do indivíduo\"\"\"\n",
    "    return sum(individuo)\n",
    "\n",
    "    "
   ]
  },
  {
   "cell_type": "code",
   "execution_count": 46,
   "metadata": {},
   "outputs": [],
   "source": [
    "# Constantes:\n",
    "# Vamos fingir que não sabemos o resultado desse problemas e vamos estabelecer o número de indivíduos (NUM_CANDIDATOS) que serão analisados \n",
    "NUM_CANDIDATOS= 12\n",
    "# Numero de genes em cada indivíduo. Segundo o enunciado do problema, devem ser consideradas 4 caixas\n",
    "NUM_GENES= 4"
   ]
  },
  {
   "cell_type": "code",
   "execution_count": 47,
   "metadata": {},
   "outputs": [
    {
     "name": "stdout",
     "output_type": "stream",
     "text": [
      "[0, 1, 0, 0] 1\n",
      "[0, 0, 0, 0] 0\n",
      "[0, 0, 1, 0] 1\n",
      "[0, 1, 0, 0] 1\n",
      "[0, 1, 0, 1] 2\n",
      "[0, 1, 0, 1] 2\n",
      "[0, 0, 0, 1] 1\n",
      "[1, 0, 1, 0] 2\n",
      "[0, 1, 1, 0] 2\n",
      "[0, 0, 0, 0] 0\n",
      "[0, 1, 1, 0] 2\n",
      "[1, 1, 0, 1] 3\n"
     ]
    }
   ],
   "source": [
    "dicionario= {}\n",
    "for n in range(NUM_CANDIDATOS): # Laço de repetição\n",
    "    candidato= individuo_cb(NUM_GENES)\n",
    "    fobj = funcao_objetivo_cb(candidato)\n",
    "    print(candidato, fobj)"
   ]
  },
  {
   "cell_type": "markdown",
   "metadata": {},
   "source": [
    "## Conclusão\n",
    "\n"
   ]
  },
  {
   "cell_type": "markdown",
   "metadata": {},
   "source": [
    "Resolvemos o problema das caixas binárias com 4 caixas (ou genes). Rodando o código várias vezes, pode-se perceber que nem sempre a resposta do problema é a certa (a resposta certa seria: indivíduo [1,1,1,1]) , visto que esse algorítimo é probabilístico. Afinal, o código depende da escolha ALEATÓRIA de um gene, realizada através da função \"choice\" da biblioteca embutida \"random\", e, por isso, obtemos respostas diferentes ao rodar o código.\n"
   ]
  },
  {
   "cell_type": "markdown",
   "metadata": {},
   "source": [
    "Ademais, podemos concluir que, quanto maior o número de candidatos, menor a probabilidade da resposta obtida ser errada! No entanto, se esse número for excessivamente alto (como, por exemplo, 1000), também podemos concluir que analisaremos mais de uma vez o mesmo candidato, o que nos leva a questionar a eficiência desse código."
   ]
  },
  {
   "cell_type": "markdown",
   "metadata": {},
   "source": [
    "## Playground\n",
    "\n"
   ]
  },
  {
   "cell_type": "code",
   "execution_count": 48,
   "metadata": {},
   "outputs": [],
   "source": [
    "# Testes realizados ao longo da resolução"
   ]
  },
  {
   "cell_type": "code",
   "execution_count": null,
   "metadata": {},
   "outputs": [],
   "source": []
  }
 ],
 "metadata": {
  "kernelspec": {
   "display_name": "ilumpy",
   "language": "python",
   "name": "ilumpy"
  },
  "language_info": {
   "codemirror_mode": {
    "name": "ipython",
    "version": 3
   },
   "file_extension": ".py",
   "mimetype": "text/x-python",
   "name": "python",
   "nbconvert_exporter": "python",
   "pygments_lexer": "ipython3",
   "version": "3.9.7"
  },
  "org": null
 },
 "nbformat": 4,
 "nbformat_minor": 4
}
