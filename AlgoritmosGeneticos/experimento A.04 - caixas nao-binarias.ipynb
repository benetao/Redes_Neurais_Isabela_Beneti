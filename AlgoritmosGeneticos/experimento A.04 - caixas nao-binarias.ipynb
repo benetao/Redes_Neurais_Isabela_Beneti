{
 "cells": [
  {
   "cell_type": "markdown",
   "metadata": {},
   "source": [
    "Problema das caixas não-binárias\n",
    "================================\n",
    "\n"
   ]
  },
  {
   "cell_type": "markdown",
   "metadata": {},
   "source": [
    "## Objetivo\n",
    "\n"
   ]
  },
  {
   "cell_type": "markdown",
   "metadata": {},
   "source": [
    "Encontrar uma solução para o problema das caixas não-binárias usando um algoritmo genético. Considere 4 caixas. Considere que cada caixa pode ter um valor inteiro dentro do conjunto [0, 100].\n",
    "\n"
   ]
  },
  {
   "cell_type": "markdown",
   "metadata": {},
   "source": [
    "## Descrição do problema\n",
    "\n"
   ]
  },
  {
   "cell_type": "markdown",
   "metadata": {},
   "source": [
    "O problema das caixas não-binárias é simples: nós temos um certo número de caixas e cada uma pode conter um número inteiro. O objetivo é encontrar uma combinação de caixas onde a soma dos valores contidos dentro delas é máximo.\n",
    "\n"
   ]
  },
  {
   "cell_type": "markdown",
   "metadata": {},
   "source": [
    "## Importações\n",
    "\n"
   ]
  },
  {
   "cell_type": "code",
   "execution_count": 1,
   "metadata": {},
   "outputs": [],
   "source": [
    "from funcoes import populacao_cnb\n",
    "from funcoes import funcao_objetivo_pop_cnb as funcao_objetivo_pop\n",
    "from funcoes import selecao_roleta_max as funcao_selecao\n",
    "from funcoes import cruzamento_ponto_simples as funcao_cruzamento\n",
    "from funcoes import mutacao_cnb\n",
    "import random"
   ]
  },
  {
   "cell_type": "markdown",
   "metadata": {},
   "source": [
    "## Códigos e discussão\n",
    "\n"
   ]
  },
  {
   "cell_type": "code",
   "execution_count": 2,
   "metadata": {},
   "outputs": [],
   "source": [
    "### CONSTANTES\n",
    "\n",
    "# Constantes de busca: mudar se quiser melhorar a eficácia do algoritmo\n",
    "TAMANHO_POP = 5 # define quantidade de indivíduos analisados\n",
    "NUM_GERACOES = 200 # estabelece número de gerações\n",
    "CHANCE_CRUZAMENTO = 0.5 # estabelece a probabilidade de ocorrer cruzamento entre indivíduos\n",
    "CHANCE_MUTACAO = 0.05 # define a probabilidade de ocorrer mutação com um indivíduo\n",
    "\n",
    "# Constantes de problema: mudar se quiser alterar o problema que está sendo resolvido\n",
    "NUM_GENES = 4 # quantidade de genes (números de item na lista) de cada indivíduo\n",
    "VALOR_MAX_CAIXA = 100 # valor máximo que pode ser atribuído a um indivíduo, INCLUSO"
   ]
  },
  {
   "cell_type": "code",
   "execution_count": 3,
   "metadata": {},
   "outputs": [],
   "source": [
    "# funções locais\n",
    "\n",
    "def cria_populacao_inicial(tamanho, n_genes): # função parcial, ou temporária, que evita termos que ficar buscando a função \"populacao_cnb\" toda hora\n",
    "    return populacao_cnb(tamanho, n_genes, VALOR_MAX_CAIXA) # agora, para criar a população, não precisa colocar a constante de \"valor máximo\" como argumento!\n",
    "\n",
    "def funcao_mutacao(individuo):  \n",
    "    return mutacao_cnb(individuo, VALOR_MAX_CAIXA)# agora, para realizar a mutação, não precisa colocar a constante de \"valor máximo\" como argumento!"
   ]
  },
  {
   "cell_type": "code",
   "execution_count": 4,
   "metadata": {},
   "outputs": [
    {
     "name": "stdout",
     "output_type": "stream",
     "text": [
      "População inicial:\n",
      "[[55, 59, 65, 65], [14, 18, 96, 21], [64, 15, 11, 33], [75, 66, 39, 13], [36, 40, 28, 39]]\n",
      "\n",
      "População final:\n",
      "[[80, 44, 34, 89], [80, 44, 45, 89], [80, 44, 47, 89], [80, 44, 45, 89], [80, 44, 34, 89]]\n"
     ]
    }
   ],
   "source": [
    "populacao = cria_populacao_inicial(TAMANHO_POP, NUM_GENES)\n",
    "\n",
    "print(\"População inicial:\")\n",
    "print(populacao) # printando a população inicial para ter uma noção de como o algorítimo genético atuou\n",
    "\n",
    "for n in range(NUM_GERACOES):    \n",
    "    \n",
    "    # Seleção\n",
    "    fitness = funcao_objetivo_pop(populacao) # o número de fitness representa quão boa é a resposta, e determina o \"weigth\" da seleção\n",
    "    populacao = funcao_selecao(populacao, fitness)\n",
    "    \n",
    "    # Cruzamento\n",
    "    pais = populacao[0::2]\n",
    "    maes = populacao[1::2]\n",
    "    \n",
    "    contador = 0 # esse contador resolve o nosso problema do índice dos pais e mães\n",
    "    \n",
    "    for pai, mae in zip(pais, maes): # função zip une informações de duas listas\n",
    "        if random.random() <= CHANCE_CRUZAMENTO:  # se o valor dado, entre 0 e 1, pela função random, for menor que a chance de cruzamento (0.5), não ocorre cruzamento!!\n",
    "            filho1, filho2 = funcao_cruzamento(pai, mae) \n",
    "            populacao[contador] = filho1 # filho 1 vai substituir o pai na lista\n",
    "            populacao[contador + 1] = filho2 # filho 2 vai substituir a mãe na lista\n",
    "        \n",
    "        contador = contador + 2   # contador aumenta de 2 em 2\n",
    "        \n",
    "    # Mutação\n",
    "    for n in range(len(populacao)):\n",
    "        if random.random() <= CHANCE_MUTACAO: # se o valor dado, entre 0 e 1, pela função random, for menor que a chance de mutação (0.05), não ocorre mutação!\n",
    "            individuo = populacao[n]\n",
    "            populacao[n] = funcao_mutacao(individuo)            \n",
    "\n",
    "print()\n",
    "print(\"População final:\")\n",
    "print(populacao)"
   ]
  },
  {
   "cell_type": "markdown",
   "metadata": {},
   "source": [
    "## Conclusão\n",
    "\n"
   ]
  },
  {
   "cell_type": "markdown",
   "metadata": {},
   "source": [
    "Aqui implementamos um códgo muito parecido com o código do experimento anterior.\n",
    "\n",
    "A maior diferença é o valor dos genes, que, nesse caso, variam de 0 a 100 (e não de 0 a 1). Por isso, tivemos que mudar não só a função que cria genes, como também a que cria indivíduos, populações e as duas funções relacionadas a função objetivo. \n",
    "\n",
    "Nesse experimento, no entanto, ao mudar as constantes de busca, ficou ainda mais claro qual o impacto de cada uma delas na eficiência do código.\n",
    "\n",
    "Ao aumentarmos a chance de mutação por exemplo, o código tende a dar resultados melhores até um DETERMINADO PONTO, pois, se a aumentarmos demais, as mutações começarão a ser numerosas demais, resultando num código pouco eficiente. O mesmo vale para a redução excessiva dessa constante. Por isso, é bom fazer testes com esse valor para definir o melhor valor para essa constante.\n",
    "\n",
    "No entanto, é sempre bom relembrar que esse algorítimo é PROBABILÍSTICO, e não determinístico. Por isso, mesmo mudando as constantes, nós sempre estaremos lidando com  fatores aleatórios (de sorte). Isso pode ser percebido quando rodamos o código sucessivamente, sem mudar o valor das constantes: ao mesmo tempo que às vezes obtemos resultados distantes do ideal, enquanto outras vezes, obtemos resultados mais próximos dele!"
   ]
  },
  {
   "cell_type": "markdown",
   "metadata": {},
   "source": [
    "## Playground\n",
    "\n"
   ]
  }
 ],
 "metadata": {
  "kernelspec": {
   "display_name": "ilumpy",
   "language": "python",
   "name": "ilumpy"
  },
  "language_info": {
   "codemirror_mode": {
    "name": "ipython",
    "version": 3
   },
   "file_extension": ".py",
   "mimetype": "text/x-python",
   "name": "python",
   "nbconvert_exporter": "python",
   "pygments_lexer": "ipython3",
   "version": "3.9.7"
  },
  "org": null
 },
 "nbformat": 4,
 "nbformat_minor": 4
}
