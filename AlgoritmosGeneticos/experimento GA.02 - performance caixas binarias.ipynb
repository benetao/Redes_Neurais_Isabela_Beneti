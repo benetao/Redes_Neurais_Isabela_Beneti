{
 "cells": [
  {
   "cell_type": "markdown",
   "metadata": {},
   "source": [
    "Escreva aqui o título do seu experimento\n",
    "========================================\n",
    "\n"
   ]
  },
  {
   "cell_type": "markdown",
   "metadata": {},
   "source": [
    "## Introdução\n",
    "\n"
   ]
  },
  {
   "cell_type": "markdown",
   "metadata": {},
   "source": [
    "\n",
    "\n"
   ]
  },
  {
   "cell_type": "markdown",
   "metadata": {},
   "source": [
    "## Objetivo\n",
    "\n"
   ]
  },
  {
   "cell_type": "markdown",
   "metadata": {},
   "source": [
    "Compare a performance de três algoritmos diferentes de otimização (busca aleatória, busca em grade e algoritmos genéticos) para resolver o problema das caixas binárias.\n"
   ]
  },
  {
   "cell_type": "markdown",
   "metadata": {
    "tags": []
   },
   "source": [
    "## Importações\n",
    "\n"
   ]
  },
  {
   "cell_type": "markdown",
   "metadata": {},
   "source": [
    "Todos os comandos de `import` devem estar dentro desta seção.\n",
    "\n"
   ]
  },
  {
   "cell_type": "code",
   "execution_count": 1,
   "metadata": {},
   "outputs": [],
   "source": [
    "# Bibliotecas necessárias para rodar as células abaixo!\n",
    "# Para  abusca aleatória:\n",
    "from funcoes import individuo_cb, funcao_objetivo_cb\n",
    "# Para a busca em grade:\n",
    "from funcoes import funcao_objetivo_cb\n",
    "import itertools\n",
    "# Para o algoritmo genético:\n",
    "import random\n",
    "from funcoes import populacao_cb as cria_populacao_inicial\n",
    "from funcoes import funcao_objetivo_pop_cb as funcao_objetivo_pop\n",
    "from funcoes import selecao_roleta_max as funcao_selecao\n",
    "from funcoes import cruzamento_ponto_simples as funcao_cruzamento\n",
    "from funcoes import mutacao_cb as funcao_mutacao"
   ]
  },
  {
   "cell_type": "markdown",
   "metadata": {},
   "source": [
    "## Códigos e discussão\n",
    "\n"
   ]
  },
  {
   "cell_type": "markdown",
   "metadata": {},
   "source": [
    "-   Use células de código para o código.\n",
    "\n",
    "-   Use células de texto para a discussão.\n",
    "\n",
    "-   A discussão não deve ser feita em comentários dentro das células de código. Toda discussão deve acontecer após o resultado sendo discutido foi apresentado. Exemplo: não discuta um gráfico antes de apresentá-lo.\n",
    "\n"
   ]
  },
  {
   "cell_type": "code",
   "execution_count": 10,
   "metadata": {},
   "outputs": [
    {
     "name": "stdout",
     "output_type": "stream",
     "text": [
      "[1, 2, 2, 3, 4, 4, 5, 6, 7, 9, 8, 8, 9, 9, 9, 13, 13, 12, 14, 14]\n",
      "[0, 0, 1, 1, 1, 2, 2, 2, 2, 1, 3, 4, 4, 5, 6, 3, 4, 6, 5, 6]\n"
     ]
    }
   ],
   "source": [
    "# PERFORMANCE DA BUSCA ALEATÓRIA\n",
    "# Constantes:\n",
    "# Vamos fingir que não sabemos o resultado desse problemas e vamos estabelecer o número de indivíduos (NUM_CANDIDATOS) que serão analisados \n",
    "NUM_CANDIDATOS= 12\n",
    "# Numero de genes em cada indivíduo. Segundo o enunciado do problema, devem ser consideradas 4 caixas\n",
    "NUM_GENES= 0\n",
    "lista=[]\n",
    "listaa=[]\n",
    "listamaiores=[]\n",
    "for _ in range(20):\n",
    "    NUM_GENES= NUM_GENES+1\n",
    "    maior= 0\n",
    "    a =0\n",
    "    for n in range(NUM_CANDIDATOS): # Laço de repetição\n",
    "        lista= []\n",
    "        candidato= individuo_cb(NUM_GENES)\n",
    "        fobj = funcao_objetivo_cb(candidato)\n",
    "        if fobj > maior:\n",
    "            maior= fobj\n",
    "    listamaiores.append(maior)\n",
    "print(listamaiores)\n",
    "listaa=[]\n",
    "z= 0\n",
    "for x in listamaiores:\n",
    "    z= z+1\n",
    "    a= z- x\n",
    "    listaa.append(a)\n",
    "print(listaa)\n"
   ]
  },
  {
   "cell_type": "code",
   "execution_count": 13,
   "metadata": {},
   "outputs": [
    {
     "name": "stdout",
     "output_type": "stream",
     "text": [
      "[1, 2, 2, 3, 4, 4, 5, 6, 7, 9, 8, 8, 9, 9, 9, 13, 13, 12, 14, 14, 14, 14, 14, 14, 14, 14, 14, 14, 14, 14, 14, 14, 14, 14, 15, 16, 17, 18, 19, 20, 20, 20, 20, 20, 20, 20, 20, 20, 20, 20, 20, 20, 20, 20, 20, 20, 20, 20, 20, 20, 20, 20, 20, 20, 20, 20, 20, 20, 20, 20, 20, 20, 20, 20, 20, 20, 20, 20, 20, 20]\n",
      "[0, 0, 1, 1, 1, 2, 2, 2, 2, 1, 3, 4, 4, 5, 6, 3, 4, 6, 5, 6, 7, 8, 9, 10, 11, 12, 13, 14, 15, 16, 17, 18, 19, 20, 20, 20, 20, 20, 20, 20, 21, 22, 23, 24, 25, 26, 27, 28, 29, 30, 31, 32, 33, 34, 35, 36, 37, 38, 39, 40, 41, 42, 43, 44, 45, 46, 47, 48, 49, 50, 51, 52, 53, 54, 55, 56, 57, 58, 59, 60]\n"
     ]
    }
   ],
   "source": [
    "# PERFORMANCE DA BUSCA EM GRADE\n",
    "NUM_GENES= 0\n",
    "for _ in range(20):\n",
    "    NUM_GENES= NUM_GENES+1\n",
    "    for individuo in itertools.product([0,1], repeat= NUM_GENES):\n",
    "        fobj= funcao_objetivo_cb(individuo)\n",
    "        if fobj > maior:\n",
    "            maior= fobj\n",
    "    listamaiores.append(maior)\n",
    "listaa=[]\n",
    "z= 0\n",
    "for x in listamaiores:\n",
    "    z= z+1\n",
    "    a= z- x\n",
    "    listaa.append(a)\n",
    "print(listamaiores)   \n",
    "print(listaa)"
   ]
  },
  {
   "cell_type": "code",
   "execution_count": null,
   "metadata": {},
   "outputs": [],
   "source": []
  },
  {
   "cell_type": "markdown",
   "metadata": {},
   "source": [
    "## Conclusão\n",
    "\n"
   ]
  },
  {
   "cell_type": "markdown",
   "metadata": {},
   "source": [
    "Delete este texto e escreva sua conclusão.\n",
    "\n"
   ]
  },
  {
   "cell_type": "markdown",
   "metadata": {},
   "source": [
    "## Referências consultadas\n",
    "\n"
   ]
  },
  {
   "cell_type": "markdown",
   "metadata": {},
   "source": [
    "1.  Delete este texto e inclua suas referências ordenadas numericamente. Se for referenciar no notebook, use o número entre colchetes (exemplo: para citar essa referência aqui escreva &ldquo;[1]&rdquo; sem as áspas).\n",
    "\n",
    "2.  Cada item deve ser numerado. Siga o padrão apresentado.\n",
    "\n",
    "3.  Caso não tenha nenhuma referência consultada, delete esta seção e o texto contido nela!\n",
    "\n"
   ]
  },
  {
   "cell_type": "markdown",
   "metadata": {},
   "source": [
    "## Playground\n",
    "\n"
   ]
  },
  {
   "cell_type": "markdown",
   "metadata": {},
   "source": [
    "Todo código de teste que não faz parte do seu experimento deve vir aqui. Este código não será considerado na avaliação.\n",
    "\n"
   ]
  },
  {
   "cell_type": "code",
   "execution_count": null,
   "metadata": {},
   "outputs": [],
   "source": []
  }
 ],
 "metadata": {
  "kernelspec": {
   "display_name": "ilumpy",
   "language": "python",
   "name": "ilumpy"
  },
  "language_info": {
   "codemirror_mode": {
    "name": "ipython",
    "version": 3
   },
   "file_extension": ".py",
   "mimetype": "text/x-python",
   "name": "python",
   "nbconvert_exporter": "python",
   "pygments_lexer": "ipython3",
   "version": "3.9.7"
  },
  "org": null
 },
 "nbformat": 4,
 "nbformat_minor": 4
}
