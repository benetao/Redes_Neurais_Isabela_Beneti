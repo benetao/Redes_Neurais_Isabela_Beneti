{
 "cells": [
  {
   "cell_type": "markdown",
   "metadata": {},
   "source": [
    "Recordando derivadas\n",
    "====================\n",
    "\n"
   ]
  },
  {
   "cell_type": "markdown",
   "metadata": {},
   "source": [
    "## Introdução\n",
    "\n"
   ]
  },
  {
   "cell_type": "markdown",
   "metadata": {},
   "source": [
    "A base do algoritmo de `backpropagation` para treinar redes neuras artificiais é o cálculo dos gradientes locais de cada parâmetro da rede neural. Os gradientes locais nada mais são do que a derivada parcial da `função custo` (símbolo $L$, também conhecida como `função de perda`, veremos em detalhes no futuro) em relação a um certo parâmetro $p$. Se você não se recorda, a derivada parcial usa o símbolo $\\partial$ ao invés do $\\mathrm{d}$ e significa que você está interessado apenas na derivada em relação à uma das variáveis da sua função, mantendo todas as outras constantes.\n",
    "\n",
    "Vamos nos recordar que a definição da derivada é:\n",
    "\n",
    "$$\n",
    "\\frac{\\mathrm{d}f(x)}{\\mathrm{d}x} = \\lim_{h \\rightarrow 0} \\frac{f(x+h) - f(x)}{h}\n",
    "$$\n",
    "\n"
   ]
  },
  {
   "cell_type": "markdown",
   "metadata": {},
   "source": [
    "## Objetivo\n",
    "\n"
   ]
  },
  {
   "cell_type": "markdown",
   "metadata": {},
   "source": [
    "Calcular a derivada de uma função qualquer de forma numérica usando a definição.\n",
    "\n"
   ]
  },
  {
   "cell_type": "markdown",
   "metadata": {},
   "source": [
    "## Importações\n",
    "\n"
   ]
  },
  {
   "cell_type": "code",
   "execution_count": 5,
   "metadata": {},
   "outputs": [],
   "source": [
    "import numpy as np\n",
    "from matplotlib import pyplot as plt"
   ]
  },
  {
   "cell_type": "markdown",
   "metadata": {},
   "source": [
    "## Código e discussão\n",
    "\n"
   ]
  },
  {
   "cell_type": "markdown",
   "metadata": {},
   "source": [
    "Vamos definir a função.\n",
    "\n"
   ]
  },
  {
   "cell_type": "code",
   "execution_count": 6,
   "metadata": {},
   "outputs": [],
   "source": [
    "def funcao(x):\n",
    "    return 3 * x**2 - 4 * x + 5"
   ]
  },
  {
   "cell_type": "markdown",
   "metadata": {},
   "source": [
    "Podemos checar como ela se comporta localmente.\n",
    "\n"
   ]
  },
  {
   "cell_type": "code",
   "execution_count": 7,
   "metadata": {},
   "outputs": [
    {
     "name": "stdout",
     "output_type": "stream",
     "text": [
      "Quando x_escolhido=3 obtemos funcao(x_escolhido)=20.\n"
     ]
    }
   ],
   "source": [
    "x_escolhido = 3\n",
    "print(f\"Quando {x_escolhido=} obtemos {funcao(x_escolhido)=}.\")"
   ]
  },
  {
   "cell_type": "markdown",
   "metadata": {},
   "source": [
    "Podemos também checar seu gráfico.\n",
    "\n"
   ]
  },
  {
   "cell_type": "code",
   "execution_count": 8,
   "metadata": {},
   "outputs": [
    {
     "data": {
      "image/png": "[encoded data removed]",
      "text/plain": [
       "<Figure size 432x288 with 1 Axes>"
      ]
     },
     "metadata": {
      "needs_background": "light"
     },
     "output_type": "display_data"
    }
   ],
   "source": [
    "x_plot = np.arange(-5, 5, 0.25)\n",
    "y_plot = funcao(x_plot)\n",
    "\n",
    "fig, axe = plt.subplots()\n",
    "axe.plot(x_plot, y_plot)\n",
    "plt.show()"
   ]
  },
  {
   "cell_type": "markdown",
   "metadata": {},
   "source": [
    "Agora, queremos calcular a derivada de forma numérica.\n",
    "\n"
   ]
  },
  {
   "cell_type": "code",
   "execution_count": 9,
   "metadata": {},
   "outputs": [],
   "source": [
    "def derivada_numerica(f, x, h):\n",
    "    \"\"\"\n",
    "    Calcula a derivada numérica de uma função f no ponto x usando a fórmula da diferença central.\n",
    "    \n",
    "    Args:\n",
    "        f: função a ser derivada\n",
    "        x: ponto no qual a derivada é calculada\n",
    "        h: passo\n",
    "    Retorna: \n",
    "        Valor aproximado da derivada no ponto x\n",
    "    \"\"\"\n",
    "    # fórmula da diferença central, APROXIMAÇÃO da derivada\n",
    "    derivada = (f(x + h) - f(x - h)) / (2 * h)\n",
    "    \n",
    "    return derivada"
   ]
  },
  {
   "cell_type": "code",
   "execution_count": 12,
   "metadata": {},
   "outputs": [],
   "source": [
    "derivada_em_x= derivada_numerica(funcao, x_escolhido, 0.00001)"
   ]
  },
  {
   "cell_type": "markdown",
   "metadata": {},
   "source": [
    "Com isso podemos observar a derivada no plot.\n",
    "\n"
   ]
  },
  {
   "cell_type": "code",
   "execution_count": 13,
   "metadata": {},
   "outputs": [
    {
     "data": {
      "image/png": "[encoded data removed]",
      "text/plain": [
       "<Figure size 432x288 with 1 Axes>"
      ]
     },
     "metadata": {
      "needs_background": "light"
     },
     "output_type": "display_data"
    }
   ],
   "source": [
    "intercepto = funcao(x_escolhido) - (derivada_em_x * x_escolhido)\n",
    "\n",
    "def reta_da_derivada(x):\n",
    "    return derivada_em_x * x + intercepto\n",
    "\n",
    "x_plot = np.arange(-5, 5, 0.25)\n",
    "y_plot = funcao(x_plot)\n",
    "y_reta = reta_da_derivada(x_plot)\n",
    "\n",
    "fig, axe = plt.subplots()\n",
    "\n",
    "axe.plot(x_plot, y_plot)\n",
    "axe.plot(x_plot, y_reta)\n",
    "plt.show()"
   ]
  },
  {
   "cell_type": "markdown",
   "metadata": {},
   "source": [
    "## Conclusão\n",
    "\n"
   ]
  },
  {
   "cell_type": "markdown",
   "metadata": {},
   "source": [
    "## Playground\n",
    "\n"
   ]
  }
 ],
 "metadata": {
  "kernelspec": {
   "display_name": "ilumpy",
   "language": "python",
   "name": "ilumpy"
  },
  "language_info": {
   "codemirror_mode": {
    "name": "ipython",
    "version": 3
   },
   "file_extension": ".py",
   "mimetype": "text/x-python",
   "name": "python",
   "nbconvert_exporter": "python",
   "pygments_lexer": "ipython3",
   "version": "3.9.7"
  },
  "org": null
 },
 "nbformat": 4,
 "nbformat_minor": 4
}
